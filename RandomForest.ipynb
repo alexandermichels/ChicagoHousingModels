{
 "cells": [
  {
   "cell_type": "markdown",
   "metadata": {},
   "source": [
    "[Cook County Assessors Office Code](https://gitlab.com/ccao-data-science---modeling)\n",
    "\n",
    "Data Sources:\n",
    "\n",
    "* [Cook County GIS Open Data](https://hub-cookcountyil.opendata.arcgis.com/)"
   ]
  },
  {
   "cell_type": "code",
   "execution_count": 1,
   "metadata": {},
   "outputs": [],
   "source": [
    "# import packages\n",
    "import csv, datetime, glob, joblib, math, pickle, pydot, time, os, sklearn\n",
    "\n",
    "from dask.distributed import Client, progress\n",
    "from datetime import datetime\n",
    "from IPython.display import display\n",
    "import ipywidgets as widgets\n",
    "import matplotlib.pyplot as plt\n",
    "import numpy as np\n",
    "import pandas as pd\n",
    "import seaborn as sn\n",
    "from sklearn.ensemble import RandomForestRegressor\n",
    "from sklearn.model_selection import train_test_split\n",
    "from sklearn.tree import export_graphviz\n",
    "from tqdm import tqdm"
   ]
  },
  {
   "cell_type": "code",
   "execution_count": 2,
   "metadata": {},
   "outputs": [
    {
     "data": {
      "application/vnd.jupyter.widget-view+json": {
       "model_id": "19aafbaf9a9941248bf874f5128be77c",
       "version_major": 2,
       "version_minor": 0
      },
      "text/plain": [
       "Dropdown(description='Data: ', index=2, options=('./data/processed/Cleaned_Chicago_Sales_wACS.pkl', './data/pr…"
      ]
     },
     "metadata": {},
     "output_type": "display_data"
    }
   ],
   "source": [
    "dataset_dropdown = widgets.Dropdown(\n",
    "    options = glob.glob(\"./data/processed/*.pkl\"),\n",
    "    value = \"./data/processed/Cleaned_Chicago_Sales.pkl\",\n",
    "    description = \"Data: \"\n",
    ")\n",
    "display(dataset_dropdown)"
   ]
  },
  {
   "cell_type": "code",
   "execution_count": 69,
   "metadata": {},
   "outputs": [
    {
     "name": "stdout",
     "output_type": "stream",
     "text": [
      "Loading data from ./data/processed/Cleaned_Chicago_Sales_wACS.pkl\n",
      "Data frame has 339204 rows and 225 columns\n"
     ]
    },
    {
     "data": {
      "text/html": [
       "<div>\n",
       "<style scoped>\n",
       "    .dataframe tbody tr th:only-of-type {\n",
       "        vertical-align: middle;\n",
       "    }\n",
       "\n",
       "    .dataframe tbody tr th {\n",
       "        vertical-align: top;\n",
       "    }\n",
       "\n",
       "    .dataframe thead th {\n",
       "        text-align: right;\n",
       "    }\n",
       "</style>\n",
       "<table border=\"1\" class=\"dataframe\">\n",
       "  <thead>\n",
       "    <tr style=\"text-align: right;\">\n",
       "      <th></th>\n",
       "      <th>PIN</th>\n",
       "      <th>Property Class</th>\n",
       "      <th>Neighborhood Code</th>\n",
       "      <th>Land Square Feet</th>\n",
       "      <th>Town Code</th>\n",
       "      <th>Type of Residence</th>\n",
       "      <th>Apartments</th>\n",
       "      <th>Wall Material</th>\n",
       "      <th>Roof Material</th>\n",
       "      <th>Rooms</th>\n",
       "      <th>...</th>\n",
       "      <th>NonFamilyHouseholdsMedianIncome</th>\n",
       "      <th>NonFamilyHouseholdsMeanIncome</th>\n",
       "      <th>MedianWorkerEarnings</th>\n",
       "      <th>HealthInsuranceCoverage</th>\n",
       "      <th>HealthInsuranceCoverage-Private</th>\n",
       "      <th>HealthInsuranceCoverage-Public</th>\n",
       "      <th>FamiliesBelowPovertyLevel</th>\n",
       "      <th>MarriedCouplesBelowPovertyLevel</th>\n",
       "      <th>PeopleIncomeBelowPovertyLevel</th>\n",
       "      <th>ChildrenUnderPovertyLevel</th>\n",
       "    </tr>\n",
       "  </thead>\n",
       "  <tbody>\n",
       "    <tr>\n",
       "      <th>0</th>\n",
       "      <td>907671888</td>\n",
       "      <td>211</td>\n",
       "      <td>13</td>\n",
       "      <td>4500.0</td>\n",
       "      <td>77</td>\n",
       "      <td>3.0</td>\n",
       "      <td>6.0</td>\n",
       "      <td>2.0</td>\n",
       "      <td>2.0</td>\n",
       "      <td>24.0</td>\n",
       "      <td>...</td>\n",
       "      <td>14806.0</td>\n",
       "      <td>20590.0</td>\n",
       "      <td>22252.0</td>\n",
       "      <td>85.199997</td>\n",
       "      <td>29.600000</td>\n",
       "      <td>60.400002</td>\n",
       "      <td>27.700001</td>\n",
       "      <td>11.5</td>\n",
       "      <td>34.099998</td>\n",
       "      <td>43.900002</td>\n",
       "    </tr>\n",
       "    <tr>\n",
       "      <th>1</th>\n",
       "      <td>-16803040</td>\n",
       "      <td>204</td>\n",
       "      <td>100</td>\n",
       "      <td>33898.0</td>\n",
       "      <td>25</td>\n",
       "      <td>5.0</td>\n",
       "      <td>0.0</td>\n",
       "      <td>2.0</td>\n",
       "      <td>4.0</td>\n",
       "      <td>11.0</td>\n",
       "      <td>...</td>\n",
       "      <td>48929.0</td>\n",
       "      <td>106485.0</td>\n",
       "      <td>60333.0</td>\n",
       "      <td>96.199997</td>\n",
       "      <td>89.599998</td>\n",
       "      <td>21.400000</td>\n",
       "      <td>2.600000</td>\n",
       "      <td>1.0</td>\n",
       "      <td>1.900000</td>\n",
       "      <td>1.700000</td>\n",
       "    </tr>\n",
       "    <tr>\n",
       "      <th>2</th>\n",
       "      <td>-1605782160</td>\n",
       "      <td>208</td>\n",
       "      <td>12</td>\n",
       "      <td>3720.0</td>\n",
       "      <td>74</td>\n",
       "      <td>3.0</td>\n",
       "      <td>0.0</td>\n",
       "      <td>2.0</td>\n",
       "      <td>6.0</td>\n",
       "      <td>9.0</td>\n",
       "      <td>...</td>\n",
       "      <td>82589.0</td>\n",
       "      <td>97714.0</td>\n",
       "      <td>36996.0</td>\n",
       "      <td>95.800003</td>\n",
       "      <td>92.800003</td>\n",
       "      <td>9.000000</td>\n",
       "      <td>0.000000</td>\n",
       "      <td>0.0</td>\n",
       "      <td>12.400000</td>\n",
       "      <td>0.000000</td>\n",
       "    </tr>\n",
       "    <tr>\n",
       "      <th>3</th>\n",
       "      <td>1560820864</td>\n",
       "      <td>204</td>\n",
       "      <td>34</td>\n",
       "      <td>16079.0</td>\n",
       "      <td>28</td>\n",
       "      <td>1.0</td>\n",
       "      <td>0.0</td>\n",
       "      <td>3.0</td>\n",
       "      <td>1.0</td>\n",
       "      <td>7.0</td>\n",
       "      <td>...</td>\n",
       "      <td>40882.0</td>\n",
       "      <td>54363.0</td>\n",
       "      <td>50197.0</td>\n",
       "      <td>96.199997</td>\n",
       "      <td>85.500000</td>\n",
       "      <td>25.100000</td>\n",
       "      <td>2.600000</td>\n",
       "      <td>3.0</td>\n",
       "      <td>5.600000</td>\n",
       "      <td>5.700000</td>\n",
       "    </tr>\n",
       "    <tr>\n",
       "      <th>4</th>\n",
       "      <td>-44469280</td>\n",
       "      <td>204</td>\n",
       "      <td>42</td>\n",
       "      <td>7560.0</td>\n",
       "      <td>71</td>\n",
       "      <td>1.0</td>\n",
       "      <td>0.0</td>\n",
       "      <td>2.0</td>\n",
       "      <td>1.0</td>\n",
       "      <td>6.0</td>\n",
       "      <td>...</td>\n",
       "      <td>77222.0</td>\n",
       "      <td>77490.0</td>\n",
       "      <td>45552.0</td>\n",
       "      <td>95.300003</td>\n",
       "      <td>82.699997</td>\n",
       "      <td>21.400000</td>\n",
       "      <td>1.600000</td>\n",
       "      <td>0.0</td>\n",
       "      <td>2.900000</td>\n",
       "      <td>0.000000</td>\n",
       "    </tr>\n",
       "  </tbody>\n",
       "</table>\n",
       "<p>5 rows × 225 columns</p>\n",
       "</div>"
      ],
      "text/plain": [
       "          PIN  Property Class  Neighborhood Code  Land Square Feet  Town Code  \\\n",
       "0   907671888             211                 13            4500.0         77   \n",
       "1   -16803040             204                100           33898.0         25   \n",
       "2 -1605782160             208                 12            3720.0         74   \n",
       "3  1560820864             204                 34           16079.0         28   \n",
       "4   -44469280             204                 42            7560.0         71   \n",
       "\n",
       "   Type of Residence  Apartments  Wall Material  Roof Material  Rooms  ...  \\\n",
       "0                3.0         6.0            2.0            2.0   24.0  ...   \n",
       "1                5.0         0.0            2.0            4.0   11.0  ...   \n",
       "2                3.0         0.0            2.0            6.0    9.0  ...   \n",
       "3                1.0         0.0            3.0            1.0    7.0  ...   \n",
       "4                1.0         0.0            2.0            1.0    6.0  ...   \n",
       "\n",
       "   NonFamilyHouseholdsMedianIncome  NonFamilyHouseholdsMeanIncome  \\\n",
       "0                          14806.0                        20590.0   \n",
       "1                          48929.0                       106485.0   \n",
       "2                          82589.0                        97714.0   \n",
       "3                          40882.0                        54363.0   \n",
       "4                          77222.0                        77490.0   \n",
       "\n",
       "   MedianWorkerEarnings  HealthInsuranceCoverage  \\\n",
       "0               22252.0                85.199997   \n",
       "1               60333.0                96.199997   \n",
       "2               36996.0                95.800003   \n",
       "3               50197.0                96.199997   \n",
       "4               45552.0                95.300003   \n",
       "\n",
       "   HealthInsuranceCoverage-Private  HealthInsuranceCoverage-Public  \\\n",
       "0                        29.600000                       60.400002   \n",
       "1                        89.599998                       21.400000   \n",
       "2                        92.800003                        9.000000   \n",
       "3                        85.500000                       25.100000   \n",
       "4                        82.699997                       21.400000   \n",
       "\n",
       "   FamiliesBelowPovertyLevel  MarriedCouplesBelowPovertyLevel  \\\n",
       "0                  27.700001                             11.5   \n",
       "1                   2.600000                              1.0   \n",
       "2                   0.000000                              0.0   \n",
       "3                   2.600000                              3.0   \n",
       "4                   1.600000                              0.0   \n",
       "\n",
       "   PeopleIncomeBelowPovertyLevel  ChildrenUnderPovertyLevel  \n",
       "0                      34.099998                  43.900002  \n",
       "1                       1.900000                   1.700000  \n",
       "2                      12.400000                   0.000000  \n",
       "3                       5.600000                   5.700000  \n",
       "4                       2.900000                   0.000000  \n",
       "\n",
       "[5 rows x 225 columns]"
      ]
     },
     "execution_count": 69,
     "metadata": {},
     "output_type": "execute_result"
    }
   ],
   "source": [
    "# Data from: https://datacatalog.cookcountyil.gov/Property-Taxation/Cook-County-Assessor-s-Residential-Sales-Data/5pge-nu6u\n",
    "dataset = dataset_dropdown.value\n",
    "print(\"Loading data from {}\".format(dataset))\n",
    "ml_df = pd.read_pickle(dataset)\n",
    "print(\"Data frame has {} rows and {} columns\".format(len(ml_df), len(ml_df.columns)))\n",
    "ml_df.head()"
   ]
  },
  {
   "cell_type": "code",
   "execution_count": 70,
   "metadata": {},
   "outputs": [
    {
     "data": {
      "application/vnd.jupyter.widget-view+json": {
       "model_id": "2b5ef37b0bb446719b9f22234cc15f8d",
       "version_major": 2,
       "version_minor": 0
      },
      "text/plain": [
       "SelectionSlider(description='N Trees', index=5, options=(2, 4, 8, 16, 32, 64, 128, 256, 512), value=64)"
      ]
     },
     "metadata": {},
     "output_type": "display_data"
    },
    {
     "data": {
      "application/vnd.jupyter.widget-view+json": {
       "model_id": "4fdab26cdd4041cba71f1ed2545ccc1d",
       "version_major": 2,
       "version_minor": 0
      },
      "text/plain": [
       "SelectionRangeSlider(index=(0, 2554), layout=Layout(width='500px'), options=(('02 Jan 2013', Timestamp('2013-0…"
      ]
     },
     "metadata": {},
     "output_type": "display_data"
    },
    {
     "data": {
      "application/vnd.jupyter.widget-view+json": {
       "model_id": "2fe820a8052e4edc83a576d195c56f26",
       "version_major": 2,
       "version_minor": 0
      },
      "text/plain": [
       "SelectionRangeSlider(index=(0, 9389), layout=Layout(width='500px'), options=(10, 11, 12, 13, 14, 15, 16, 17, 1…"
      ]
     },
     "metadata": {},
     "output_type": "display_data"
    }
   ],
   "source": [
    "ml_df = pd.read_pickle(dataset)\n",
    "drop_these = [\"PIN\", \"Sale Date\", \n",
    "              \"Estimate (Land)\", \"Estimate (Building)\", \n",
    "              \"Deed No.\", \"Pure Market Filter\"]\n",
    "tree_slider = widgets.SelectionSlider(\n",
    "    options=[ 2**i for i in range(1,10)],\n",
    "    value=64,\n",
    "    description=\"N Trees\",\n",
    ")\n",
    "start_date, end_date = min(ml_df[\"Sale Date\"]), max(ml_df[\"Sale Date\"])\n",
    "dates = pd.date_range(start_date, end_date, freq=\"D\")\n",
    "dates_slider = widgets.SelectionRangeSlider(\n",
    "    options = [ (date.strftime(\"%d %b %Y\"), date) for date in dates ],\n",
    "    index=(0,len(dates)-1),\n",
    "    layout={'width':'500px'}\n",
    ")\n",
    "prices = ml_df[\"Sale Price\"].to_numpy()\n",
    "price_range = range( math.floor(min(prices)/1000), math.ceil(max(prices)/1000), 1)\n",
    "price_slider = widgets.SelectionRangeSlider(\n",
    "    options =  price_range,\n",
    "    index=(0,len(price_range)-1),\n",
    "    layout={'width':'500px'}\n",
    ")\n",
    "display(tree_slider, dates_slider, price_slider)"
   ]
  },
  {
   "cell_type": "code",
   "execution_count": 71,
   "metadata": {},
   "outputs": [
    {
     "name": "stdout",
     "output_type": "stream",
     "text": [
      "Data frame has 339203 rows and 219 columns\n"
     ]
    },
    {
     "data": {
      "text/html": [
       "<div>\n",
       "<style scoped>\n",
       "    .dataframe tbody tr th:only-of-type {\n",
       "        vertical-align: middle;\n",
       "    }\n",
       "\n",
       "    .dataframe tbody tr th {\n",
       "        vertical-align: top;\n",
       "    }\n",
       "\n",
       "    .dataframe thead th {\n",
       "        text-align: right;\n",
       "    }\n",
       "</style>\n",
       "<table border=\"1\" class=\"dataframe\">\n",
       "  <thead>\n",
       "    <tr style=\"text-align: right;\">\n",
       "      <th></th>\n",
       "      <th>Property Class</th>\n",
       "      <th>Neighborhood Code</th>\n",
       "      <th>Land Square Feet</th>\n",
       "      <th>Town Code</th>\n",
       "      <th>Type of Residence</th>\n",
       "      <th>Apartments</th>\n",
       "      <th>Wall Material</th>\n",
       "      <th>Roof Material</th>\n",
       "      <th>Rooms</th>\n",
       "      <th>Bedrooms</th>\n",
       "      <th>...</th>\n",
       "      <th>NonFamilyHouseholdsMedianIncome</th>\n",
       "      <th>NonFamilyHouseholdsMeanIncome</th>\n",
       "      <th>MedianWorkerEarnings</th>\n",
       "      <th>HealthInsuranceCoverage</th>\n",
       "      <th>HealthInsuranceCoverage-Private</th>\n",
       "      <th>HealthInsuranceCoverage-Public</th>\n",
       "      <th>FamiliesBelowPovertyLevel</th>\n",
       "      <th>MarriedCouplesBelowPovertyLevel</th>\n",
       "      <th>PeopleIncomeBelowPovertyLevel</th>\n",
       "      <th>ChildrenUnderPovertyLevel</th>\n",
       "    </tr>\n",
       "  </thead>\n",
       "  <tbody>\n",
       "    <tr>\n",
       "      <th>0</th>\n",
       "      <td>211</td>\n",
       "      <td>13</td>\n",
       "      <td>4500.0</td>\n",
       "      <td>77</td>\n",
       "      <td>3.0</td>\n",
       "      <td>6.0</td>\n",
       "      <td>2.0</td>\n",
       "      <td>2.0</td>\n",
       "      <td>24.0</td>\n",
       "      <td>12.0</td>\n",
       "      <td>...</td>\n",
       "      <td>14806.0</td>\n",
       "      <td>20590.0</td>\n",
       "      <td>22252.0</td>\n",
       "      <td>85.199997</td>\n",
       "      <td>29.600000</td>\n",
       "      <td>60.400002</td>\n",
       "      <td>27.700001</td>\n",
       "      <td>11.5</td>\n",
       "      <td>34.099998</td>\n",
       "      <td>43.900002</td>\n",
       "    </tr>\n",
       "    <tr>\n",
       "      <th>1</th>\n",
       "      <td>204</td>\n",
       "      <td>100</td>\n",
       "      <td>33898.0</td>\n",
       "      <td>25</td>\n",
       "      <td>5.0</td>\n",
       "      <td>0.0</td>\n",
       "      <td>2.0</td>\n",
       "      <td>4.0</td>\n",
       "      <td>11.0</td>\n",
       "      <td>4.0</td>\n",
       "      <td>...</td>\n",
       "      <td>48929.0</td>\n",
       "      <td>106485.0</td>\n",
       "      <td>60333.0</td>\n",
       "      <td>96.199997</td>\n",
       "      <td>89.599998</td>\n",
       "      <td>21.400000</td>\n",
       "      <td>2.600000</td>\n",
       "      <td>1.0</td>\n",
       "      <td>1.900000</td>\n",
       "      <td>1.700000</td>\n",
       "    </tr>\n",
       "    <tr>\n",
       "      <th>2</th>\n",
       "      <td>208</td>\n",
       "      <td>12</td>\n",
       "      <td>3720.0</td>\n",
       "      <td>74</td>\n",
       "      <td>3.0</td>\n",
       "      <td>0.0</td>\n",
       "      <td>2.0</td>\n",
       "      <td>6.0</td>\n",
       "      <td>9.0</td>\n",
       "      <td>5.0</td>\n",
       "      <td>...</td>\n",
       "      <td>82589.0</td>\n",
       "      <td>97714.0</td>\n",
       "      <td>36996.0</td>\n",
       "      <td>95.800003</td>\n",
       "      <td>92.800003</td>\n",
       "      <td>9.000000</td>\n",
       "      <td>0.000000</td>\n",
       "      <td>0.0</td>\n",
       "      <td>12.400000</td>\n",
       "      <td>0.000000</td>\n",
       "    </tr>\n",
       "    <tr>\n",
       "      <th>3</th>\n",
       "      <td>204</td>\n",
       "      <td>34</td>\n",
       "      <td>16079.0</td>\n",
       "      <td>28</td>\n",
       "      <td>1.0</td>\n",
       "      <td>0.0</td>\n",
       "      <td>3.0</td>\n",
       "      <td>1.0</td>\n",
       "      <td>7.0</td>\n",
       "      <td>3.0</td>\n",
       "      <td>...</td>\n",
       "      <td>40882.0</td>\n",
       "      <td>54363.0</td>\n",
       "      <td>50197.0</td>\n",
       "      <td>96.199997</td>\n",
       "      <td>85.500000</td>\n",
       "      <td>25.100000</td>\n",
       "      <td>2.600000</td>\n",
       "      <td>3.0</td>\n",
       "      <td>5.600000</td>\n",
       "      <td>5.700000</td>\n",
       "    </tr>\n",
       "    <tr>\n",
       "      <th>4</th>\n",
       "      <td>204</td>\n",
       "      <td>42</td>\n",
       "      <td>7560.0</td>\n",
       "      <td>71</td>\n",
       "      <td>1.0</td>\n",
       "      <td>0.0</td>\n",
       "      <td>2.0</td>\n",
       "      <td>1.0</td>\n",
       "      <td>6.0</td>\n",
       "      <td>5.0</td>\n",
       "      <td>...</td>\n",
       "      <td>77222.0</td>\n",
       "      <td>77490.0</td>\n",
       "      <td>45552.0</td>\n",
       "      <td>95.300003</td>\n",
       "      <td>82.699997</td>\n",
       "      <td>21.400000</td>\n",
       "      <td>1.600000</td>\n",
       "      <td>0.0</td>\n",
       "      <td>2.900000</td>\n",
       "      <td>0.000000</td>\n",
       "    </tr>\n",
       "  </tbody>\n",
       "</table>\n",
       "<p>5 rows × 219 columns</p>\n",
       "</div>"
      ],
      "text/plain": [
       "   Property Class  Neighborhood Code  Land Square Feet  Town Code  \\\n",
       "0             211                 13            4500.0         77   \n",
       "1             204                100           33898.0         25   \n",
       "2             208                 12            3720.0         74   \n",
       "3             204                 34           16079.0         28   \n",
       "4             204                 42            7560.0         71   \n",
       "\n",
       "   Type of Residence  Apartments  Wall Material  Roof Material  Rooms  \\\n",
       "0                3.0         6.0            2.0            2.0   24.0   \n",
       "1                5.0         0.0            2.0            4.0   11.0   \n",
       "2                3.0         0.0            2.0            6.0    9.0   \n",
       "3                1.0         0.0            3.0            1.0    7.0   \n",
       "4                1.0         0.0            2.0            1.0    6.0   \n",
       "\n",
       "   Bedrooms  ...  NonFamilyHouseholdsMedianIncome  \\\n",
       "0      12.0  ...                          14806.0   \n",
       "1       4.0  ...                          48929.0   \n",
       "2       5.0  ...                          82589.0   \n",
       "3       3.0  ...                          40882.0   \n",
       "4       5.0  ...                          77222.0   \n",
       "\n",
       "   NonFamilyHouseholdsMeanIncome  MedianWorkerEarnings  \\\n",
       "0                        20590.0               22252.0   \n",
       "1                       106485.0               60333.0   \n",
       "2                        97714.0               36996.0   \n",
       "3                        54363.0               50197.0   \n",
       "4                        77490.0               45552.0   \n",
       "\n",
       "   HealthInsuranceCoverage  HealthInsuranceCoverage-Private  \\\n",
       "0                85.199997                        29.600000   \n",
       "1                96.199997                        89.599998   \n",
       "2                95.800003                        92.800003   \n",
       "3                96.199997                        85.500000   \n",
       "4                95.300003                        82.699997   \n",
       "\n",
       "   HealthInsuranceCoverage-Public  FamiliesBelowPovertyLevel  \\\n",
       "0                       60.400002                  27.700001   \n",
       "1                       21.400000                   2.600000   \n",
       "2                        9.000000                   0.000000   \n",
       "3                       25.100000                   2.600000   \n",
       "4                       21.400000                   1.600000   \n",
       "\n",
       "   MarriedCouplesBelowPovertyLevel  PeopleIncomeBelowPovertyLevel  \\\n",
       "0                             11.5                      34.099998   \n",
       "1                              1.0                       1.900000   \n",
       "2                              0.0                      12.400000   \n",
       "3                              3.0                       5.600000   \n",
       "4                              0.0                       2.900000   \n",
       "\n",
       "   ChildrenUnderPovertyLevel  \n",
       "0                  43.900002  \n",
       "1                   1.700000  \n",
       "2                   0.000000  \n",
       "3                   5.700000  \n",
       "4                   0.000000  \n",
       "\n",
       "[5 rows x 219 columns]"
      ]
     },
     "execution_count": 71,
     "metadata": {},
     "output_type": "execute_result"
    }
   ],
   "source": [
    "ml_df = pd.read_pickle(dataset)\n",
    "date_slider_i = dates_slider.index\n",
    "start, end = dates[date_slider_i[0]], dates[date_slider_i[1]]\n",
    "#print(start, end)\n",
    "ml_df = ml_df[ml_df[\"Sale Date\"] <= end]\n",
    "ml_df = ml_df[ml_df[\"Sale Date\"] >= start]\n",
    "price_i = price_slider.index\n",
    "low_price, high_price = price_range[price_i[0]], price_range[price_i[1]]\n",
    "ml_df = ml_df[ml_df[\"Sale Price\"] >= low_price*1000]\n",
    "ml_df = ml_df[ml_df[\"Sale Price\"] <= high_price*1000]\n",
    "\n",
    "ml_df = ml_df.drop(drop_these, axis=1)\n",
    "print(\"Data frame has {} rows and {} columns\".format(len(ml_df), len(ml_df.columns)))\n",
    "ml_df.head()"
   ]
  },
  {
   "cell_type": "markdown",
   "metadata": {},
   "source": [
    "# Random Forest"
   ]
  },
  {
   "cell_type": "code",
   "execution_count": 72,
   "metadata": {
    "scrolled": true
   },
   "outputs": [
    {
     "data": {
      "text/html": [
       "<div>\n",
       "<style scoped>\n",
       "    .dataframe tbody tr th:only-of-type {\n",
       "        vertical-align: middle;\n",
       "    }\n",
       "\n",
       "    .dataframe tbody tr th {\n",
       "        vertical-align: top;\n",
       "    }\n",
       "\n",
       "    .dataframe thead th {\n",
       "        text-align: right;\n",
       "    }\n",
       "</style>\n",
       "<table border=\"1\" class=\"dataframe\">\n",
       "  <thead>\n",
       "    <tr style=\"text-align: right;\">\n",
       "      <th></th>\n",
       "      <th>Property Class</th>\n",
       "      <th>Neighborhood Code</th>\n",
       "      <th>Land Square Feet</th>\n",
       "      <th>Town Code</th>\n",
       "      <th>Type of Residence</th>\n",
       "      <th>Apartments</th>\n",
       "      <th>Wall Material</th>\n",
       "      <th>Roof Material</th>\n",
       "      <th>Rooms</th>\n",
       "      <th>Bedrooms</th>\n",
       "      <th>...</th>\n",
       "      <th>NonFamilyHouseholdsMedianIncome</th>\n",
       "      <th>NonFamilyHouseholdsMeanIncome</th>\n",
       "      <th>MedianWorkerEarnings</th>\n",
       "      <th>HealthInsuranceCoverage</th>\n",
       "      <th>HealthInsuranceCoverage-Private</th>\n",
       "      <th>HealthInsuranceCoverage-Public</th>\n",
       "      <th>FamiliesBelowPovertyLevel</th>\n",
       "      <th>MarriedCouplesBelowPovertyLevel</th>\n",
       "      <th>PeopleIncomeBelowPovertyLevel</th>\n",
       "      <th>ChildrenUnderPovertyLevel</th>\n",
       "    </tr>\n",
       "  </thead>\n",
       "  <tbody>\n",
       "    <tr>\n",
       "      <th>count</th>\n",
       "      <td>339203.000000</td>\n",
       "      <td>339203.000000</td>\n",
       "      <td>3.392030e+05</td>\n",
       "      <td>339203.000000</td>\n",
       "      <td>339203.000000</td>\n",
       "      <td>339203.000000</td>\n",
       "      <td>339203.000000</td>\n",
       "      <td>339203.000000</td>\n",
       "      <td>339203.000000</td>\n",
       "      <td>339203.000000</td>\n",
       "      <td>...</td>\n",
       "      <td>328501.000000</td>\n",
       "      <td>339203.000000</td>\n",
       "      <td>339151.000000</td>\n",
       "      <td>339203.000000</td>\n",
       "      <td>339203.000000</td>\n",
       "      <td>339203.000000</td>\n",
       "      <td>339203.000000</td>\n",
       "      <td>339203.000000</td>\n",
       "      <td>339203.000000</td>\n",
       "      <td>339203.000000</td>\n",
       "    </tr>\n",
       "    <tr>\n",
       "      <th>mean</th>\n",
       "      <td>220.131723</td>\n",
       "      <td>106.619337</td>\n",
       "      <td>6.885363e+03</td>\n",
       "      <td>45.756181</td>\n",
       "      <td>2.126243</td>\n",
       "      <td>0.409705</td>\n",
       "      <td>1.942439</td>\n",
       "      <td>1.178946</td>\n",
       "      <td>7.145187</td>\n",
       "      <td>3.569287</td>\n",
       "      <td>...</td>\n",
       "      <td>40479.460938</td>\n",
       "      <td>53519.031250</td>\n",
       "      <td>39178.343750</td>\n",
       "      <td>90.349831</td>\n",
       "      <td>66.598068</td>\n",
       "      <td>33.630379</td>\n",
       "      <td>10.690272</td>\n",
       "      <td>6.076194</td>\n",
       "      <td>13.384094</td>\n",
       "      <td>17.786873</td>\n",
       "    </tr>\n",
       "    <tr>\n",
       "      <th>std</th>\n",
       "      <td>29.590377</td>\n",
       "      <td>99.144176</td>\n",
       "      <td>1.256670e+04</td>\n",
       "      <td>23.964815</td>\n",
       "      <td>1.273946</td>\n",
       "      <td>1.067684</td>\n",
       "      <td>0.780957</td>\n",
       "      <td>0.634165</td>\n",
       "      <td>3.438778</td>\n",
       "      <td>1.565590</td>\n",
       "      <td>...</td>\n",
       "      <td>17173.089844</td>\n",
       "      <td>23079.835938</td>\n",
       "      <td>15066.007812</td>\n",
       "      <td>6.341203</td>\n",
       "      <td>18.667154</td>\n",
       "      <td>13.111530</td>\n",
       "      <td>9.962968</td>\n",
       "      <td>7.301517</td>\n",
       "      <td>10.798603</td>\n",
       "      <td>16.969040</td>\n",
       "    </tr>\n",
       "    <tr>\n",
       "      <th>min</th>\n",
       "      <td>202.000000</td>\n",
       "      <td>10.000000</td>\n",
       "      <td>1.490000e+02</td>\n",
       "      <td>10.000000</td>\n",
       "      <td>1.000000</td>\n",
       "      <td>-5.000000</td>\n",
       "      <td>1.000000</td>\n",
       "      <td>1.000000</td>\n",
       "      <td>2.000000</td>\n",
       "      <td>1.000000</td>\n",
       "      <td>...</td>\n",
       "      <td>8441.000000</td>\n",
       "      <td>9873.000000</td>\n",
       "      <td>3150.000000</td>\n",
       "      <td>63.299999</td>\n",
       "      <td>12.400000</td>\n",
       "      <td>1.200000</td>\n",
       "      <td>0.000000</td>\n",
       "      <td>0.000000</td>\n",
       "      <td>0.400000</td>\n",
       "      <td>0.000000</td>\n",
       "    </tr>\n",
       "    <tr>\n",
       "      <th>25%</th>\n",
       "      <td>203.000000</td>\n",
       "      <td>32.000000</td>\n",
       "      <td>3.720000e+03</td>\n",
       "      <td>24.000000</td>\n",
       "      <td>1.000000</td>\n",
       "      <td>0.000000</td>\n",
       "      <td>1.000000</td>\n",
       "      <td>1.000000</td>\n",
       "      <td>5.000000</td>\n",
       "      <td>3.000000</td>\n",
       "      <td>...</td>\n",
       "      <td>28021.000000</td>\n",
       "      <td>37921.000000</td>\n",
       "      <td>28899.000000</td>\n",
       "      <td>86.900002</td>\n",
       "      <td>53.700001</td>\n",
       "      <td>24.400000</td>\n",
       "      <td>3.500000</td>\n",
       "      <td>1.200000</td>\n",
       "      <td>5.400000</td>\n",
       "      <td>4.000000</td>\n",
       "    </tr>\n",
       "    <tr>\n",
       "      <th>50%</th>\n",
       "      <td>205.000000</td>\n",
       "      <td>80.000000</td>\n",
       "      <td>5.000000e+03</td>\n",
       "      <td>37.000000</td>\n",
       "      <td>2.000000</td>\n",
       "      <td>0.000000</td>\n",
       "      <td>2.000000</td>\n",
       "      <td>1.000000</td>\n",
       "      <td>6.000000</td>\n",
       "      <td>3.000000</td>\n",
       "      <td>...</td>\n",
       "      <td>38272.000000</td>\n",
       "      <td>49268.000000</td>\n",
       "      <td>35951.000000</td>\n",
       "      <td>91.500000</td>\n",
       "      <td>69.000000</td>\n",
       "      <td>32.000000</td>\n",
       "      <td>7.500000</td>\n",
       "      <td>3.800000</td>\n",
       "      <td>10.300000</td>\n",
       "      <td>12.500000</td>\n",
       "    </tr>\n",
       "    <tr>\n",
       "      <th>75%</th>\n",
       "      <td>211.000000</td>\n",
       "      <td>141.000000</td>\n",
       "      <td>7.910000e+03</td>\n",
       "      <td>72.000000</td>\n",
       "      <td>2.000000</td>\n",
       "      <td>0.000000</td>\n",
       "      <td>2.000000</td>\n",
       "      <td>1.000000</td>\n",
       "      <td>8.000000</td>\n",
       "      <td>4.000000</td>\n",
       "      <td>...</td>\n",
       "      <td>50486.000000</td>\n",
       "      <td>62788.000000</td>\n",
       "      <td>45755.000000</td>\n",
       "      <td>95.400002</td>\n",
       "      <td>82.199997</td>\n",
       "      <td>41.400002</td>\n",
       "      <td>15.000000</td>\n",
       "      <td>8.300000</td>\n",
       "      <td>18.799999</td>\n",
       "      <td>27.799999</td>\n",
       "    </tr>\n",
       "    <tr>\n",
       "      <th>max</th>\n",
       "      <td>295.000000</td>\n",
       "      <td>600.000000</td>\n",
       "      <td>2.980767e+06</td>\n",
       "      <td>77.000000</td>\n",
       "      <td>8.000000</td>\n",
       "      <td>6.000000</td>\n",
       "      <td>4.000000</td>\n",
       "      <td>6.000000</td>\n",
       "      <td>241.000000</td>\n",
       "      <td>90.000000</td>\n",
       "      <td>...</td>\n",
       "      <td>139500.000000</td>\n",
       "      <td>233353.000000</td>\n",
       "      <td>125170.000000</td>\n",
       "      <td>100.000000</td>\n",
       "      <td>98.500000</td>\n",
       "      <td>81.099998</td>\n",
       "      <td>72.199997</td>\n",
       "      <td>73.300003</td>\n",
       "      <td>73.699997</td>\n",
       "      <td>96.699997</td>\n",
       "    </tr>\n",
       "  </tbody>\n",
       "</table>\n",
       "<p>8 rows × 219 columns</p>\n",
       "</div>"
      ],
      "text/plain": [
       "       Property Class  Neighborhood Code  Land Square Feet      Town Code  \\\n",
       "count   339203.000000      339203.000000      3.392030e+05  339203.000000   \n",
       "mean       220.131723         106.619337      6.885363e+03      45.756181   \n",
       "std         29.590377          99.144176      1.256670e+04      23.964815   \n",
       "min        202.000000          10.000000      1.490000e+02      10.000000   \n",
       "25%        203.000000          32.000000      3.720000e+03      24.000000   \n",
       "50%        205.000000          80.000000      5.000000e+03      37.000000   \n",
       "75%        211.000000         141.000000      7.910000e+03      72.000000   \n",
       "max        295.000000         600.000000      2.980767e+06      77.000000   \n",
       "\n",
       "       Type of Residence     Apartments  Wall Material  Roof Material  \\\n",
       "count      339203.000000  339203.000000  339203.000000  339203.000000   \n",
       "mean            2.126243       0.409705       1.942439       1.178946   \n",
       "std             1.273946       1.067684       0.780957       0.634165   \n",
       "min             1.000000      -5.000000       1.000000       1.000000   \n",
       "25%             1.000000       0.000000       1.000000       1.000000   \n",
       "50%             2.000000       0.000000       2.000000       1.000000   \n",
       "75%             2.000000       0.000000       2.000000       1.000000   \n",
       "max             8.000000       6.000000       4.000000       6.000000   \n",
       "\n",
       "               Rooms       Bedrooms  ...  NonFamilyHouseholdsMedianIncome  \\\n",
       "count  339203.000000  339203.000000  ...                    328501.000000   \n",
       "mean        7.145187       3.569287  ...                     40479.460938   \n",
       "std         3.438778       1.565590  ...                     17173.089844   \n",
       "min         2.000000       1.000000  ...                      8441.000000   \n",
       "25%         5.000000       3.000000  ...                     28021.000000   \n",
       "50%         6.000000       3.000000  ...                     38272.000000   \n",
       "75%         8.000000       4.000000  ...                     50486.000000   \n",
       "max       241.000000      90.000000  ...                    139500.000000   \n",
       "\n",
       "       NonFamilyHouseholdsMeanIncome  MedianWorkerEarnings  \\\n",
       "count                  339203.000000         339151.000000   \n",
       "mean                    53519.031250          39178.343750   \n",
       "std                     23079.835938          15066.007812   \n",
       "min                      9873.000000           3150.000000   \n",
       "25%                     37921.000000          28899.000000   \n",
       "50%                     49268.000000          35951.000000   \n",
       "75%                     62788.000000          45755.000000   \n",
       "max                    233353.000000         125170.000000   \n",
       "\n",
       "       HealthInsuranceCoverage  HealthInsuranceCoverage-Private  \\\n",
       "count            339203.000000                    339203.000000   \n",
       "mean                 90.349831                        66.598068   \n",
       "std                   6.341203                        18.667154   \n",
       "min                  63.299999                        12.400000   \n",
       "25%                  86.900002                        53.700001   \n",
       "50%                  91.500000                        69.000000   \n",
       "75%                  95.400002                        82.199997   \n",
       "max                 100.000000                        98.500000   \n",
       "\n",
       "       HealthInsuranceCoverage-Public  FamiliesBelowPovertyLevel  \\\n",
       "count                   339203.000000              339203.000000   \n",
       "mean                        33.630379                  10.690272   \n",
       "std                         13.111530                   9.962968   \n",
       "min                          1.200000                   0.000000   \n",
       "25%                         24.400000                   3.500000   \n",
       "50%                         32.000000                   7.500000   \n",
       "75%                         41.400002                  15.000000   \n",
       "max                         81.099998                  72.199997   \n",
       "\n",
       "       MarriedCouplesBelowPovertyLevel  PeopleIncomeBelowPovertyLevel  \\\n",
       "count                    339203.000000                  339203.000000   \n",
       "mean                          6.076194                      13.384094   \n",
       "std                           7.301517                      10.798603   \n",
       "min                           0.000000                       0.400000   \n",
       "25%                           1.200000                       5.400000   \n",
       "50%                           3.800000                      10.300000   \n",
       "75%                           8.300000                      18.799999   \n",
       "max                          73.300003                      73.699997   \n",
       "\n",
       "       ChildrenUnderPovertyLevel  \n",
       "count              339203.000000  \n",
       "mean                   17.786873  \n",
       "std                    16.969040  \n",
       "min                     0.000000  \n",
       "25%                     4.000000  \n",
       "50%                    12.500000  \n",
       "75%                    27.799999  \n",
       "max                    96.699997  \n",
       "\n",
       "[8 rows x 219 columns]"
      ]
     },
     "execution_count": 72,
     "metadata": {},
     "output_type": "execute_result"
    }
   ],
   "source": [
    "ml_df.describe()"
   ]
  },
  {
   "cell_type": "code",
   "execution_count": 73,
   "metadata": {},
   "outputs": [],
   "source": [
    "label_cols = [\"Sale Price\"]\n",
    "\n",
    "labels = np.array(ml_df[label_cols])\n",
    "features = ml_df.drop(label_cols, axis=1)\n",
    "feature_list = list(features.columns)\n",
    "#print(feature_list)\n",
    "features = np.array(features)"
   ]
  },
  {
   "cell_type": "code",
   "execution_count": 74,
   "metadata": {},
   "outputs": [
    {
     "name": "stdout",
     "output_type": "stream",
     "text": [
      "Training Features Shape: (254402, 218)\n",
      "Training Labels Shape: (254402,)\n",
      "Testing Features Shape: (84801, 218)\n",
      "Testing Labels Shape: (84801,)\n"
     ]
    }
   ],
   "source": [
    "from sklearn.model_selection import train_test_split\n",
    "train_features, test_features, train_labels, test_labels = train_test_split(np.nan_to_num(features), labels, test_size = 0.25, random_state = 42)\n",
    "train_labels, test_labels = train_labels.ravel(), test_labels.ravel()\n",
    "print('Training Features Shape:', train_features.shape)\n",
    "print('Training Labels Shape:', train_labels.shape)\n",
    "print('Testing Features Shape:', test_features.shape)\n",
    "print('Testing Labels Shape:', test_labels.shape)"
   ]
  },
  {
   "cell_type": "code",
   "execution_count": 75,
   "metadata": {},
   "outputs": [
    {
     "name": "stdout",
     "output_type": "stream",
     "text": [
      "Running RFR with 64 trees\n"
     ]
    }
   ],
   "source": [
    "# Import the model we are using\n",
    "from sklearn.ensemble import RandomForestRegressor\n",
    "# Instantiate model with 1000 decision trees\n",
    "ntrees = tree_slider.value\n",
    "print(\"Running RFR with {} trees\".format(ntrees))\n",
    "rf = RandomForestRegressor(n_estimators = ntrees, random_state = 42)\n",
    "# Train the model on training data\n",
    "with Client(processes=False, threads_per_worker=5, n_workers=1, memory_limit='10GB') as client:\n",
    "    with joblib.parallel_backend(\"dask\"):\n",
    "        rf.fit(train_features, train_labels)\n",
    "pickle.dump( rf, open( \"rfr.pkl\", \"wb\" ) )"
   ]
  },
  {
   "cell_type": "code",
   "execution_count": 76,
   "metadata": {},
   "outputs": [
    {
     "data": {
      "image/png": "[encoded data removed]",
      "text/plain": [
       "<Figure size 1332x756 with 1 Axes>"
      ]
     },
     "metadata": {
      "needs_background": "light"
     },
     "output_type": "display_data"
    }
   ],
   "source": [
    "plt.hist([rf.estimators_[i].get_depth() for i in range(ntrees)],density=True)\n",
    "plt.xlabel(\"Depth/Height of Tree\")\n",
    "plt.ylabel(\"Density\")\n",
    "fig = plt.gcf()\n",
    "fig.set_size_inches(18.5, 10.5)\n",
    "plt.show()"
   ]
  },
  {
   "cell_type": "code",
   "execution_count": 77,
   "metadata": {},
   "outputs": [
    {
     "name": "stdout",
     "output_type": "stream",
     "text": [
      "Mean Sale Price in Training Set: $301123.60\n",
      "Mean Sale Price in Test Set: $302247.24\n",
      "Mean Error: $ 909.08\n"
     ]
    },
    {
     "data": {
      "image/png": "[encoded data removed]",
      "text/plain": [
       "<Figure size 432x288 with 1 Axes>"
      ]
     },
     "metadata": {
      "needs_background": "light"
     },
     "output_type": "display_data"
    }
   ],
   "source": [
    "# Use the forest's predict method on the test data\n",
    "predictions = rf.predict(test_features)\n",
    "# Calculate the absolute errors\n",
    "errors = predictions-test_labels\n",
    "print(\"Mean Sale Price in Training Set: ${:7.2f}\".format(np.mean(train_labels)))\n",
    "print(\"Mean Sale Price in Test Set: ${:7.2f}\".format(np.mean(test_labels)))\n",
    "print('Mean Error: ${:7.2f}'.format(np.mean(errors)))\n",
    "plt.boxplot(errors)\n",
    "plt.show()"
   ]
  },
  {
   "cell_type": "code",
   "execution_count": 78,
   "metadata": {},
   "outputs": [
    {
     "name": "stdout",
     "output_type": "stream",
     "text": [
      "Mean Absolute Error: $63346.92\n"
     ]
    },
    {
     "name": "stderr",
     "output_type": "stream",
     "text": [
      "Task was destroyed but it is pending!\n",
      "task: <Task pending name='Task-291' coro=<HTTP1ServerConnection._server_request_loop() running at /home/dijkstra/Nextcloud/Documents/UIUC/Y2F/ACE592/Project/env/lib/python3.8/site-packages/tornado/http1connection.py:823> wait_for=<Future pending cb=[<TaskWakeupMethWrapper object at 0x7f7557d0e940>()]> cb=[IOLoop.add_future.<locals>.<lambda>() at /home/dijkstra/Nextcloud/Documents/UIUC/Y2F/ACE592/Project/env/lib/python3.8/site-packages/tornado/ioloop.py:688]>\n",
      "Task was destroyed but it is pending!\n",
      "task: <Task pending name='Task-378' coro=<RequestHandler._execute() running at /home/dijkstra/Nextcloud/Documents/UIUC/Y2F/ACE592/Project/env/lib/python3.8/site-packages/tornado/web.py:1704> wait_for=<Future pending cb=[<TaskWakeupMethWrapper object at 0x7f75620efcd0>()]> cb=[_HandlerDelegate.execute.<locals>.<lambda>() at /home/dijkstra/Nextcloud/Documents/UIUC/Y2F/ACE592/Project/env/lib/python3.8/site-packages/tornado/web.py:2326]>\n"
     ]
    },
    {
     "data": {
      "image/png": "[encoded data removed]",
      "text/plain": [
       "<Figure size 432x288 with 1 Axes>"
      ]
     },
     "metadata": {
      "needs_background": "light"
     },
     "output_type": "display_data"
    }
   ],
   "source": [
    "# Print out the mean absolute error (mae)\n",
    "mae = np.mean(np.abs(errors))\n",
    "print('Mean Absolute Error: ${:7.2f}'.format(mae))\n",
    "plt.boxplot(np.abs(errors))\n",
    "plt.show()"
   ]
  },
  {
   "cell_type": "code",
   "execution_count": 79,
   "metadata": {},
   "outputs": [
    {
     "name": "stdout",
     "output_type": "stream",
     "text": [
      "MAPE: 38.38%\n"
     ]
    },
    {
     "data": {
      "image/png": "[encoded data removed]",
      "text/plain": [
       "<Figure size 432x288 with 1 Axes>"
      ]
     },
     "metadata": {
      "needs_background": "light"
     },
     "output_type": "display_data"
    }
   ],
   "source": [
    "# Calculate mean absolute percentage error (MAPE)\n",
    "mape = 100 * (np.abs(errors) / test_labels)\n",
    "# Calculate and display accuracy\n",
    "mape = np.mean(mape)\n",
    "print('MAPE: {:3.2f}%'.format(mape))\n",
    "plt.boxplot(np.abs(errors)/test_labels)\n",
    "plt.show()"
   ]
  },
  {
   "cell_type": "code",
   "execution_count": 80,
   "metadata": {},
   "outputs": [
    {
     "data": {
      "image/png": "[encoded data removed]",
      "text/plain": [
       "<Figure size 1332x756 with 1 Axes>"
      ]
     },
     "metadata": {
      "needs_background": "light"
     },
     "output_type": "display_data"
    }
   ],
   "source": [
    "plt.scatter(test_labels, errors)\n",
    "plt.title(\"Price vs. Error\")\n",
    "plt.xlabel(\"Price\")\n",
    "plt.ylabel(\"Error\")\n",
    "fig = plt.gcf()\n",
    "fig.set_size_inches(18.5, 10.5)\n",
    "plt.show()"
   ]
  },
  {
   "cell_type": "code",
   "execution_count": 81,
   "metadata": {},
   "outputs": [
    {
     "name": "stdout",
     "output_type": "stream",
     "text": [
      "Feature ranking:\n",
      " 1. feature 207 = FamiliesPerCaptiaIncome        (0.3014)\n",
      " 2. feature 136 = Square of Building Square Feet (0.0568)\n",
      " 3. feature 33 = Census Tract                   (0.0566)\n",
      " 4. feature 134 = Log of Building Square Feet    (0.0557)\n",
      " 5. feature 204 = FamiliesIncome200k+            (0.0492)\n",
      " 6. feature 135 = SQRT of Building Square Feet   (0.0451)\n",
      " 7. feature 30 = Building Square Feet           (0.0419)\n",
      " 8. feature 153 = Square of Latitude             (0.0284)\n",
      " 9. feature 31 = Longitude                      (0.0226)\n",
      "10. feature 156 = Square of Longitude            (0.0202)\n",
      "11. feature 155 = SQRT of Longitude              (0.0152)\n",
      "12. feature 152 = SQRT of Latitude               (0.0127)\n",
      "13. feature 42 = Sale Quarter                   (0.0123)\n",
      "14. feature 154 = Log of Longitude               (0.0120)\n",
      "15. feature 151 = Log of Latitude                (0.0110)\n",
      "16. feature 32 = Latitude                       (0.0108)\n",
      "17. feature 170 = CommutingToWork-PublicTransit  (0.0098)\n",
      "18. feature 98 = Bool-Property Class-278        (0.0091)\n",
      "19. feature 168 = CommutingToWork-DrivingAlone   (0.0089)\n",
      "20. feature 104 = Bool-Property Class-209        (0.0085)\n"
     ]
    },
    {
     "data": {
      "image/png": "[encoded data removed]",
      "text/plain": [
       "<Figure size 1332x756 with 1 Axes>"
      ]
     },
     "metadata": {
      "needs_background": "light"
     },
     "output_type": "display_data"
    }
   ],
   "source": [
    "importances = rf.feature_importances_\n",
    "std = np.std([tree.feature_importances_ for tree in rf.estimators_],axis=0)\n",
    "indices = np.argsort(importances)[::-1][:20]\n",
    "\n",
    "# Print the feature ranking\n",
    "print(\"Feature ranking:\")\n",
    "\n",
    "for f in range(len(indices)):\n",
    "    print(\"{:2d}. feature {:2d} = {:<30s} ({:1.4f})\".format(f+1, indices[f], feature_list[indices[f]], importances[indices[f]]))\n",
    "\n",
    "# Plot the impurity-based feature importances of the forest\n",
    "plt.figure()\n",
    "plt.title(\"Feature importances\")\n",
    "plt.bar(range(len(indices)), importances[indices], color=\"r\", yerr=std[indices], align=\"center\")\n",
    "plt.xticks(range(len(indices)), [ feature_list[i] for i in indices], rotation=45, ha=\"right\")\n",
    "plt.xlim([-1, len(indices)])\n",
    "fig = plt.gcf()\n",
    "fig.set_size_inches(18.5, 10.5)\n",
    "plt.show()"
   ]
  },
  {
   "cell_type": "code",
   "execution_count": 82,
   "metadata": {},
   "outputs": [
    {
     "name": "stdout",
     "output_type": "stream",
     "text": [
      "Mean error for class 202 is $2375.98 and mean absolute error is $45607.96\n",
      "Mean error for class 203 is $1379.63 and mean absolute error is $49572.07\n",
      "Mean error for class 204 is $3794.64 and mean absolute error is $79360.35\n",
      "Mean error for class 205 is $-1909.43 and mean absolute error is $69313.72\n",
      "Mean error for class 206 is $-3903.96 and mean absolute error is $138043.52\n",
      "Mean error for class 207 is $-5362.02 and mean absolute error is $46705.38\n",
      "Mean error for class 208 is $-34366.55 and mean absolute error is $176999.32\n",
      "Mean error for class 209 is $-34599.63 and mean absolute error is $370114.98\n",
      "Mean error for class 210 is $-797.13 and mean absolute error is $68659.84\n",
      "Mean error for class 211 is $3278.81 and mean absolute error is $84366.26\n",
      "Mean error for class 212 is $45274.45 and mean absolute error is $154383.30\n",
      "Mean error for class 234 is $-2665.19 and mean absolute error is $40927.82\n",
      "Mean error for class 278 is $-515.36 and mean absolute error is $73493.35\n",
      "Mean error for class 295 is $4571.54 and mean absolute error is $31948.59\n"
     ]
    },
    {
     "data": {
      "image/png": "[encoded data removed]",
      "text/plain": [
       "<Figure size 1332x756 with 1 Axes>"
      ]
     },
     "metadata": {
      "needs_background": "light"
     },
     "output_type": "display_data"
    }
   ],
   "source": [
    "feature_list = list(feature_list)\n",
    "index = feature_list.index('Property Class')\n",
    "classes = set()\n",
    "for i in range(len(test_features)):\n",
    "    classes.add(int(test_features[i][index]))\n",
    "pcerrors = {}\n",
    "#print(classes)\n",
    "for elem in classes:\n",
    "    pcerrors[elem] = {}\n",
    "    pcerrors[elem][\"error\"] = []\n",
    "    pcerrors[elem][\"abs_err\"] = []\n",
    "abs_error = np.abs(errors)\n",
    "for i in range(len(test_features)):\n",
    "    pc = int(test_features[i][index])\n",
    "    pcerrors[pc][\"error\"].append(errors[i])\n",
    "    pcerrors[pc][\"abs_err\"].append(abs_error[i])\n",
    "classes = list(classes)\n",
    "classes.sort()\n",
    "for elem in classes:\n",
    "    print(\"Mean error for class {} is ${:7.2f} and mean absolute error is ${:7.2f}\".format(elem, np.mean(pcerrors[elem][\"error\"]), np.mean(pcerrors[elem][\"abs_err\"]) ))\n",
    "plt.bar([str(i) for i in classes], [np.mean(pcerrors[elem][\"error\"]) for elem in classes], yerr=[np.std(pcerrors[elem][\"error\"])/100 for elem in classes])\n",
    "plt.xlabel(\"Property Classes\", fontsize=20)\n",
    "plt.ylabel(\"Mean Error (error bars = 1% $\\sigma$)\", fontsize=20)\n",
    "fig = plt.gcf()\n",
    "fig.set_size_inches(18.5, 10.5)\n",
    "plt.show()"
   ]
  },
  {
   "cell_type": "code",
   "execution_count": 83,
   "metadata": {},
   "outputs": [
    {
     "data": {
      "image/png": "[encoded data removed]",
      "text/plain": [
       "<Figure size 1332x756 with 1 Axes>"
      ]
     },
     "metadata": {
      "needs_background": "light"
     },
     "output_type": "display_data"
    }
   ],
   "source": [
    "plt.bar([str(i) for i in classes], [np.mean(pcerrors[elem][\"abs_err\"]) for elem in classes], yerr=[np.std(pcerrors[elem][\"error\"]) for elem in classes])\n",
    "plt.xlabel(\"Property Classes\", fontsize=20)\n",
    "plt.ylabel(\"Mean Abs Error (error bars = $\\sigma$)\", fontsize=20)\n",
    "fig = plt.gcf()\n",
    "fig.set_size_inches(18.5, 10.5)\n",
    "plt.show()"
   ]
  },
  {
   "cell_type": "code",
   "execution_count": 84,
   "metadata": {},
   "outputs": [
    {
     "data": {
      "image/png": "[encoded data removed]",
      "text/plain": [
       "<Figure size 1332x756 with 1 Axes>"
      ]
     },
     "metadata": {
      "needs_background": "light"
     },
     "output_type": "display_data"
    }
   ],
   "source": [
    "to_plt = [ pcerrors[pc][\"error\"] for pc in classes ]\n",
    "plt.boxplot(to_plt)\n",
    "plt.xticks(range(len(classes)+1), [\"\"]+classes)\n",
    "fig = plt.gcf()\n",
    "fig.set_size_inches(18.5, 10.5)\n",
    "plt.show()"
   ]
  },
  {
   "cell_type": "code",
   "execution_count": 85,
   "metadata": {},
   "outputs": [
    {
     "name": "stdout",
     "output_type": "stream",
     "text": [
      "Tree height is too large to realistically plot.\n"
     ]
    }
   ],
   "source": [
    "# check if depth is too high\n",
    "if np.mean([rf.estimators_[0].get_depth() for i in range(ntrees)]) < 8:\n",
    "    tree = rf.estimators_[0]\n",
    "    export_graphviz(tree, out_file = 'tree.dot', feature_names = feature_list, rounded = True, precision = 1)\n",
    "    (graph, ) = pydot.graph_from_dot_file('tree.dot')\n",
    "    graph.write_png('tree.png')\n",
    "else:\n",
    "    print(\"Tree height is too large to realistically plot.\")"
   ]
  },
  {
   "cell_type": "code",
   "execution_count": null,
   "metadata": {},
   "outputs": [],
   "source": []
  },
  {
   "cell_type": "code",
   "execution_count": null,
   "metadata": {},
   "outputs": [],
   "source": []
  },
  {
   "cell_type": "code",
   "execution_count": null,
   "metadata": {},
   "outputs": [],
   "source": []
  }
 ],
 "metadata": {
  "kernelspec": {
   "display_name": "Python 3",
   "language": "python",
   "name": "python3"
  },
  "language_info": {
   "codemirror_mode": {
    "name": "ipython",
    "version": 3
   },
   "file_extension": ".py",
   "mimetype": "text/x-python",
   "name": "python",
   "nbconvert_exporter": "python",
   "pygments_lexer": "ipython3",
   "version": "3.8.5"
  }
 },
 "nbformat": 4,
 "nbformat_minor": 4
}
