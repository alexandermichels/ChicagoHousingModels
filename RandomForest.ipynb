{
 "cells": [
  {
   "cell_type": "markdown",
   "metadata": {},
   "source": [
    "[Cook County Assessors Office Code](https://gitlab.com/ccao-data-science---modeling)\n",
    "\n",
    "Data Sources:\n",
    "\n",
    "* [Cook County GIS Open Data](https://hub-cookcountyil.opendata.arcgis.com/)"
   ]
  },
  {
   "cell_type": "code",
   "execution_count": 1,
   "metadata": {},
   "outputs": [],
   "source": [
    "# import packages\n",
    "import csv, datetime, glob, joblib, math, pickle, pydot, time, os, sklearn\n",
    "\n",
    "from dask.distributed import Client, progress\n",
    "from datetime import datetime\n",
    "from IPython.display import display\n",
    "import ipywidgets as widgets\n",
    "import matplotlib.pyplot as plt\n",
    "import numpy as np\n",
    "import pandas as pd\n",
    "import seaborn as sn\n",
    "from sklearn.ensemble import RandomForestRegressor\n",
    "from sklearn.model_selection import train_test_split\n",
    "from sklearn.tree import export_graphviz\n",
    "from tqdm import tqdm"
   ]
  },
  {
   "cell_type": "code",
   "execution_count": 2,
   "metadata": {},
   "outputs": [
    {
     "data": {
      "application/vnd.jupyter.widget-view+json": {
       "model_id": "7fc825e045114b579443c5f92688bc15",
       "version_major": 2,
       "version_minor": 0
      },
      "text/plain": [
       "Dropdown(description='Data: ', index=2, options=('./data/processed/Cleaned_Chicago_Sales_wACS.pkl', './data/pr…"
      ]
     },
     "metadata": {},
     "output_type": "display_data"
    }
   ],
   "source": [
    "dataset_dropdown = widgets.Dropdown(\n",
    "    options = glob.glob(\"./data/processed/*.pkl\"),\n",
    "    value = \"./data/processed/Cleaned_Chicago_Sales_geo.pkl\",\n",
    "    description = \"Data: \"\n",
    ")\n",
    "display(dataset_dropdown)"
   ]
  },
  {
   "cell_type": "code",
   "execution_count": 3,
   "metadata": {},
   "outputs": [
    {
     "name": "stdout",
     "output_type": "stream",
     "text": [
      "Loading data from ./data/processed/Cleaned_Chicago_Sales_geo.pkl\n",
      "Data frame has 339204 rows and 227 columns\n"
     ]
    },
    {
     "data": {
      "text/html": [
       "<div>\n",
       "<style scoped>\n",
       "    .dataframe tbody tr th:only-of-type {\n",
       "        vertical-align: middle;\n",
       "    }\n",
       "\n",
       "    .dataframe tbody tr th {\n",
       "        vertical-align: top;\n",
       "    }\n",
       "\n",
       "    .dataframe thead th {\n",
       "        text-align: right;\n",
       "    }\n",
       "</style>\n",
       "<table border=\"1\" class=\"dataframe\">\n",
       "  <thead>\n",
       "    <tr style=\"text-align: right;\">\n",
       "      <th></th>\n",
       "      <th>PIN</th>\n",
       "      <th>Property Class</th>\n",
       "      <th>Neighborhood Code</th>\n",
       "      <th>Land Square Feet</th>\n",
       "      <th>Town Code</th>\n",
       "      <th>Type of Residence</th>\n",
       "      <th>Apartments</th>\n",
       "      <th>Wall Material</th>\n",
       "      <th>Roof Material</th>\n",
       "      <th>Rooms</th>\n",
       "      <th>...</th>\n",
       "      <th>MedianWorkerEarnings</th>\n",
       "      <th>HealthInsuranceCoverage</th>\n",
       "      <th>HealthInsuranceCoverage-Private</th>\n",
       "      <th>HealthInsuranceCoverage-Public</th>\n",
       "      <th>FamiliesBelowPovertyLevel</th>\n",
       "      <th>MarriedCouplesBelowPovertyLevel</th>\n",
       "      <th>PeopleIncomeBelowPovertyLevel</th>\n",
       "      <th>ChildrenUnderPovertyLevel</th>\n",
       "      <th>DistPark</th>\n",
       "      <th>DistSchool</th>\n",
       "    </tr>\n",
       "  </thead>\n",
       "  <tbody>\n",
       "    <tr>\n",
       "      <th>0</th>\n",
       "      <td>907671888</td>\n",
       "      <td>211</td>\n",
       "      <td>13</td>\n",
       "      <td>4500.0</td>\n",
       "      <td>77</td>\n",
       "      <td>3.0</td>\n",
       "      <td>6.0</td>\n",
       "      <td>2.0</td>\n",
       "      <td>2.0</td>\n",
       "      <td>24.0</td>\n",
       "      <td>...</td>\n",
       "      <td>22252.0</td>\n",
       "      <td>85.199997</td>\n",
       "      <td>29.600000</td>\n",
       "      <td>60.400002</td>\n",
       "      <td>27.700001</td>\n",
       "      <td>11.5</td>\n",
       "      <td>34.099998</td>\n",
       "      <td>43.900002</td>\n",
       "      <td>2.009799</td>\n",
       "      <td>1.011246</td>\n",
       "    </tr>\n",
       "    <tr>\n",
       "      <th>1</th>\n",
       "      <td>-16803040</td>\n",
       "      <td>204</td>\n",
       "      <td>100</td>\n",
       "      <td>33898.0</td>\n",
       "      <td>25</td>\n",
       "      <td>5.0</td>\n",
       "      <td>0.0</td>\n",
       "      <td>2.0</td>\n",
       "      <td>4.0</td>\n",
       "      <td>11.0</td>\n",
       "      <td>...</td>\n",
       "      <td>60333.0</td>\n",
       "      <td>96.199997</td>\n",
       "      <td>89.599998</td>\n",
       "      <td>21.400000</td>\n",
       "      <td>2.600000</td>\n",
       "      <td>1.0</td>\n",
       "      <td>1.900000</td>\n",
       "      <td>1.700000</td>\n",
       "      <td>7.740092</td>\n",
       "      <td>12.399261</td>\n",
       "    </tr>\n",
       "    <tr>\n",
       "      <th>2</th>\n",
       "      <td>-1605782160</td>\n",
       "      <td>208</td>\n",
       "      <td>12</td>\n",
       "      <td>3720.0</td>\n",
       "      <td>74</td>\n",
       "      <td>3.0</td>\n",
       "      <td>0.0</td>\n",
       "      <td>2.0</td>\n",
       "      <td>6.0</td>\n",
       "      <td>9.0</td>\n",
       "      <td>...</td>\n",
       "      <td>36996.0</td>\n",
       "      <td>95.800003</td>\n",
       "      <td>92.800003</td>\n",
       "      <td>9.000000</td>\n",
       "      <td>0.000000</td>\n",
       "      <td>0.0</td>\n",
       "      <td>12.400000</td>\n",
       "      <td>0.000000</td>\n",
       "      <td>6.557449</td>\n",
       "      <td>2.340718</td>\n",
       "    </tr>\n",
       "    <tr>\n",
       "      <th>3</th>\n",
       "      <td>1560820864</td>\n",
       "      <td>204</td>\n",
       "      <td>34</td>\n",
       "      <td>16079.0</td>\n",
       "      <td>28</td>\n",
       "      <td>1.0</td>\n",
       "      <td>0.0</td>\n",
       "      <td>3.0</td>\n",
       "      <td>1.0</td>\n",
       "      <td>7.0</td>\n",
       "      <td>...</td>\n",
       "      <td>50197.0</td>\n",
       "      <td>96.199997</td>\n",
       "      <td>85.500000</td>\n",
       "      <td>25.100000</td>\n",
       "      <td>2.600000</td>\n",
       "      <td>3.0</td>\n",
       "      <td>5.600000</td>\n",
       "      <td>5.700000</td>\n",
       "      <td>2.146129</td>\n",
       "      <td>20.498302</td>\n",
       "    </tr>\n",
       "    <tr>\n",
       "      <th>4</th>\n",
       "      <td>-44469280</td>\n",
       "      <td>204</td>\n",
       "      <td>42</td>\n",
       "      <td>7560.0</td>\n",
       "      <td>71</td>\n",
       "      <td>1.0</td>\n",
       "      <td>0.0</td>\n",
       "      <td>2.0</td>\n",
       "      <td>1.0</td>\n",
       "      <td>6.0</td>\n",
       "      <td>...</td>\n",
       "      <td>45552.0</td>\n",
       "      <td>95.300003</td>\n",
       "      <td>82.699997</td>\n",
       "      <td>21.400000</td>\n",
       "      <td>1.600000</td>\n",
       "      <td>0.0</td>\n",
       "      <td>2.900000</td>\n",
       "      <td>0.000000</td>\n",
       "      <td>8.155375</td>\n",
       "      <td>4.481962</td>\n",
       "    </tr>\n",
       "  </tbody>\n",
       "</table>\n",
       "<p>5 rows × 227 columns</p>\n",
       "</div>"
      ],
      "text/plain": [
       "          PIN  Property Class  Neighborhood Code  Land Square Feet  Town Code  \\\n",
       "0   907671888             211                 13            4500.0         77   \n",
       "1   -16803040             204                100           33898.0         25   \n",
       "2 -1605782160             208                 12            3720.0         74   \n",
       "3  1560820864             204                 34           16079.0         28   \n",
       "4   -44469280             204                 42            7560.0         71   \n",
       "\n",
       "   Type of Residence  Apartments  Wall Material  Roof Material  Rooms  ...  \\\n",
       "0                3.0         6.0            2.0            2.0   24.0  ...   \n",
       "1                5.0         0.0            2.0            4.0   11.0  ...   \n",
       "2                3.0         0.0            2.0            6.0    9.0  ...   \n",
       "3                1.0         0.0            3.0            1.0    7.0  ...   \n",
       "4                1.0         0.0            2.0            1.0    6.0  ...   \n",
       "\n",
       "   MedianWorkerEarnings  HealthInsuranceCoverage  \\\n",
       "0               22252.0                85.199997   \n",
       "1               60333.0                96.199997   \n",
       "2               36996.0                95.800003   \n",
       "3               50197.0                96.199997   \n",
       "4               45552.0                95.300003   \n",
       "\n",
       "   HealthInsuranceCoverage-Private  HealthInsuranceCoverage-Public  \\\n",
       "0                        29.600000                       60.400002   \n",
       "1                        89.599998                       21.400000   \n",
       "2                        92.800003                        9.000000   \n",
       "3                        85.500000                       25.100000   \n",
       "4                        82.699997                       21.400000   \n",
       "\n",
       "   FamiliesBelowPovertyLevel  MarriedCouplesBelowPovertyLevel  \\\n",
       "0                  27.700001                             11.5   \n",
       "1                   2.600000                              1.0   \n",
       "2                   0.000000                              0.0   \n",
       "3                   2.600000                              3.0   \n",
       "4                   1.600000                              0.0   \n",
       "\n",
       "   PeopleIncomeBelowPovertyLevel  ChildrenUnderPovertyLevel  DistPark  \\\n",
       "0                      34.099998                  43.900002  2.009799   \n",
       "1                       1.900000                   1.700000  7.740092   \n",
       "2                      12.400000                   0.000000  6.557449   \n",
       "3                       5.600000                   5.700000  2.146129   \n",
       "4                       2.900000                   0.000000  8.155375   \n",
       "\n",
       "   DistSchool  \n",
       "0    1.011246  \n",
       "1   12.399261  \n",
       "2    2.340718  \n",
       "3   20.498302  \n",
       "4    4.481962  \n",
       "\n",
       "[5 rows x 227 columns]"
      ]
     },
     "execution_count": 3,
     "metadata": {},
     "output_type": "execute_result"
    }
   ],
   "source": [
    "# Data from: https://datacatalog.cookcountyil.gov/Property-Taxation/Cook-County-Assessor-s-Residential-Sales-Data/5pge-nu6u\n",
    "dataset = dataset_dropdown.value\n",
    "print(\"Loading data from {}\".format(dataset))\n",
    "ml_df = pd.read_pickle(dataset)\n",
    "print(\"Data frame has {} rows and {} columns\".format(len(ml_df), len(ml_df.columns)))\n",
    "ml_df.head()"
   ]
  },
  {
   "cell_type": "code",
   "execution_count": 4,
   "metadata": {},
   "outputs": [
    {
     "data": {
      "application/vnd.jupyter.widget-view+json": {
       "model_id": "26c289f3fd3e45fbb7d656f506a0bffc",
       "version_major": 2,
       "version_minor": 0
      },
      "text/plain": [
       "SelectionSlider(description='N Trees', index=5, options=(2, 4, 8, 16, 32, 64, 128, 256, 512), value=64)"
      ]
     },
     "metadata": {},
     "output_type": "display_data"
    },
    {
     "data": {
      "application/vnd.jupyter.widget-view+json": {
       "model_id": "8295af61cd5947f99e4916002b96e1f6",
       "version_major": 2,
       "version_minor": 0
      },
      "text/plain": [
       "SelectionRangeSlider(index=(0, 2554), layout=Layout(width='500px'), options=(('02 Jan 2013', Timestamp('2013-0…"
      ]
     },
     "metadata": {},
     "output_type": "display_data"
    },
    {
     "data": {
      "application/vnd.jupyter.widget-view+json": {
       "model_id": "13e90bb5484647eb8738d32942ee3523",
       "version_major": 2,
       "version_minor": 0
      },
      "text/plain": [
       "SelectionRangeSlider(index=(0, 9389), layout=Layout(width='500px'), options=(10, 11, 12, 13, 14, 15, 16, 17, 1…"
      ]
     },
     "metadata": {},
     "output_type": "display_data"
    },
    {
     "data": {
      "application/vnd.jupyter.widget-view+json": {
       "model_id": "2284ac1307e247cfa7663e455cd0ff58",
       "version_major": 2,
       "version_minor": 0
      },
      "text/plain": [
       "Dropdown(description='Transform', options=('', 'sqrt', 'log'), value='')"
      ]
     },
     "metadata": {},
     "output_type": "display_data"
    }
   ],
   "source": [
    "ml_df = pd.read_pickle(dataset)\n",
    "drop_these = [\"PIN\", \"Sale Date\", \n",
    "              \"Estimate (Land)\", \"Estimate (Building)\", \n",
    "              \"Deed No.\", \"Pure Market Filter\"]\n",
    "tree_slider = widgets.SelectionSlider(\n",
    "    options=[ 2**i for i in range(1,10)],\n",
    "    value=64,\n",
    "    description=\"N Trees\",\n",
    ")\n",
    "start_date, end_date = min(ml_df[\"Sale Date\"]), max(ml_df[\"Sale Date\"])\n",
    "dates = pd.date_range(start_date, end_date, freq=\"D\")\n",
    "dates_slider = widgets.SelectionRangeSlider(\n",
    "    options = [ (date.strftime(\"%d %b %Y\"), date) for date in dates ],\n",
    "    index=(0,len(dates)-1),\n",
    "    layout={'width':'500px'}\n",
    ")\n",
    "prices = ml_df[\"Sale Price\"].to_numpy()\n",
    "price_range = range( math.floor(min(prices)/1000), math.ceil(max(prices)/1000), 1)\n",
    "price_slider = widgets.SelectionRangeSlider(\n",
    "    options =  price_range,\n",
    "    index=(0,len(price_range)-1),\n",
    "    layout={'width':'500px'}\n",
    ")\n",
    "label_transform_dropdown = widgets.Dropdown(\n",
    "    options=[\"\", \"sqrt\", \"log\"],\n",
    "    description=\"Transform\"\n",
    ")\n",
    "display(tree_slider, dates_slider, price_slider, label_transform_dropdown)"
   ]
  },
  {
   "cell_type": "code",
   "execution_count": 5,
   "metadata": {},
   "outputs": [
    {
     "name": "stdout",
     "output_type": "stream",
     "text": [
      "Data frame has 339203 rows and 221 columns\n"
     ]
    },
    {
     "data": {
      "text/html": [
       "<div>\n",
       "<style scoped>\n",
       "    .dataframe tbody tr th:only-of-type {\n",
       "        vertical-align: middle;\n",
       "    }\n",
       "\n",
       "    .dataframe tbody tr th {\n",
       "        vertical-align: top;\n",
       "    }\n",
       "\n",
       "    .dataframe thead th {\n",
       "        text-align: right;\n",
       "    }\n",
       "</style>\n",
       "<table border=\"1\" class=\"dataframe\">\n",
       "  <thead>\n",
       "    <tr style=\"text-align: right;\">\n",
       "      <th></th>\n",
       "      <th>Property Class</th>\n",
       "      <th>Neighborhood Code</th>\n",
       "      <th>Land Square Feet</th>\n",
       "      <th>Town Code</th>\n",
       "      <th>Type of Residence</th>\n",
       "      <th>Apartments</th>\n",
       "      <th>Wall Material</th>\n",
       "      <th>Roof Material</th>\n",
       "      <th>Rooms</th>\n",
       "      <th>Bedrooms</th>\n",
       "      <th>...</th>\n",
       "      <th>MedianWorkerEarnings</th>\n",
       "      <th>HealthInsuranceCoverage</th>\n",
       "      <th>HealthInsuranceCoverage-Private</th>\n",
       "      <th>HealthInsuranceCoverage-Public</th>\n",
       "      <th>FamiliesBelowPovertyLevel</th>\n",
       "      <th>MarriedCouplesBelowPovertyLevel</th>\n",
       "      <th>PeopleIncomeBelowPovertyLevel</th>\n",
       "      <th>ChildrenUnderPovertyLevel</th>\n",
       "      <th>DistPark</th>\n",
       "      <th>DistSchool</th>\n",
       "    </tr>\n",
       "  </thead>\n",
       "  <tbody>\n",
       "    <tr>\n",
       "      <th>0</th>\n",
       "      <td>211</td>\n",
       "      <td>13</td>\n",
       "      <td>4500.0</td>\n",
       "      <td>77</td>\n",
       "      <td>3.0</td>\n",
       "      <td>6.0</td>\n",
       "      <td>2.0</td>\n",
       "      <td>2.0</td>\n",
       "      <td>24.0</td>\n",
       "      <td>12.0</td>\n",
       "      <td>...</td>\n",
       "      <td>22252.0</td>\n",
       "      <td>85.199997</td>\n",
       "      <td>29.600000</td>\n",
       "      <td>60.400002</td>\n",
       "      <td>27.700001</td>\n",
       "      <td>11.5</td>\n",
       "      <td>34.099998</td>\n",
       "      <td>43.900002</td>\n",
       "      <td>2.009799</td>\n",
       "      <td>1.011246</td>\n",
       "    </tr>\n",
       "    <tr>\n",
       "      <th>1</th>\n",
       "      <td>204</td>\n",
       "      <td>100</td>\n",
       "      <td>33898.0</td>\n",
       "      <td>25</td>\n",
       "      <td>5.0</td>\n",
       "      <td>0.0</td>\n",
       "      <td>2.0</td>\n",
       "      <td>4.0</td>\n",
       "      <td>11.0</td>\n",
       "      <td>4.0</td>\n",
       "      <td>...</td>\n",
       "      <td>60333.0</td>\n",
       "      <td>96.199997</td>\n",
       "      <td>89.599998</td>\n",
       "      <td>21.400000</td>\n",
       "      <td>2.600000</td>\n",
       "      <td>1.0</td>\n",
       "      <td>1.900000</td>\n",
       "      <td>1.700000</td>\n",
       "      <td>7.740092</td>\n",
       "      <td>12.399261</td>\n",
       "    </tr>\n",
       "    <tr>\n",
       "      <th>2</th>\n",
       "      <td>208</td>\n",
       "      <td>12</td>\n",
       "      <td>3720.0</td>\n",
       "      <td>74</td>\n",
       "      <td>3.0</td>\n",
       "      <td>0.0</td>\n",
       "      <td>2.0</td>\n",
       "      <td>6.0</td>\n",
       "      <td>9.0</td>\n",
       "      <td>5.0</td>\n",
       "      <td>...</td>\n",
       "      <td>36996.0</td>\n",
       "      <td>95.800003</td>\n",
       "      <td>92.800003</td>\n",
       "      <td>9.000000</td>\n",
       "      <td>0.000000</td>\n",
       "      <td>0.0</td>\n",
       "      <td>12.400000</td>\n",
       "      <td>0.000000</td>\n",
       "      <td>6.557449</td>\n",
       "      <td>2.340718</td>\n",
       "    </tr>\n",
       "    <tr>\n",
       "      <th>3</th>\n",
       "      <td>204</td>\n",
       "      <td>34</td>\n",
       "      <td>16079.0</td>\n",
       "      <td>28</td>\n",
       "      <td>1.0</td>\n",
       "      <td>0.0</td>\n",
       "      <td>3.0</td>\n",
       "      <td>1.0</td>\n",
       "      <td>7.0</td>\n",
       "      <td>3.0</td>\n",
       "      <td>...</td>\n",
       "      <td>50197.0</td>\n",
       "      <td>96.199997</td>\n",
       "      <td>85.500000</td>\n",
       "      <td>25.100000</td>\n",
       "      <td>2.600000</td>\n",
       "      <td>3.0</td>\n",
       "      <td>5.600000</td>\n",
       "      <td>5.700000</td>\n",
       "      <td>2.146129</td>\n",
       "      <td>20.498302</td>\n",
       "    </tr>\n",
       "    <tr>\n",
       "      <th>4</th>\n",
       "      <td>204</td>\n",
       "      <td>42</td>\n",
       "      <td>7560.0</td>\n",
       "      <td>71</td>\n",
       "      <td>1.0</td>\n",
       "      <td>0.0</td>\n",
       "      <td>2.0</td>\n",
       "      <td>1.0</td>\n",
       "      <td>6.0</td>\n",
       "      <td>5.0</td>\n",
       "      <td>...</td>\n",
       "      <td>45552.0</td>\n",
       "      <td>95.300003</td>\n",
       "      <td>82.699997</td>\n",
       "      <td>21.400000</td>\n",
       "      <td>1.600000</td>\n",
       "      <td>0.0</td>\n",
       "      <td>2.900000</td>\n",
       "      <td>0.000000</td>\n",
       "      <td>8.155375</td>\n",
       "      <td>4.481962</td>\n",
       "    </tr>\n",
       "  </tbody>\n",
       "</table>\n",
       "<p>5 rows × 221 columns</p>\n",
       "</div>"
      ],
      "text/plain": [
       "   Property Class  Neighborhood Code  Land Square Feet  Town Code  \\\n",
       "0             211                 13            4500.0         77   \n",
       "1             204                100           33898.0         25   \n",
       "2             208                 12            3720.0         74   \n",
       "3             204                 34           16079.0         28   \n",
       "4             204                 42            7560.0         71   \n",
       "\n",
       "   Type of Residence  Apartments  Wall Material  Roof Material  Rooms  \\\n",
       "0                3.0         6.0            2.0            2.0   24.0   \n",
       "1                5.0         0.0            2.0            4.0   11.0   \n",
       "2                3.0         0.0            2.0            6.0    9.0   \n",
       "3                1.0         0.0            3.0            1.0    7.0   \n",
       "4                1.0         0.0            2.0            1.0    6.0   \n",
       "\n",
       "   Bedrooms  ...  MedianWorkerEarnings  HealthInsuranceCoverage  \\\n",
       "0      12.0  ...               22252.0                85.199997   \n",
       "1       4.0  ...               60333.0                96.199997   \n",
       "2       5.0  ...               36996.0                95.800003   \n",
       "3       3.0  ...               50197.0                96.199997   \n",
       "4       5.0  ...               45552.0                95.300003   \n",
       "\n",
       "   HealthInsuranceCoverage-Private  HealthInsuranceCoverage-Public  \\\n",
       "0                        29.600000                       60.400002   \n",
       "1                        89.599998                       21.400000   \n",
       "2                        92.800003                        9.000000   \n",
       "3                        85.500000                       25.100000   \n",
       "4                        82.699997                       21.400000   \n",
       "\n",
       "   FamiliesBelowPovertyLevel  MarriedCouplesBelowPovertyLevel  \\\n",
       "0                  27.700001                             11.5   \n",
       "1                   2.600000                              1.0   \n",
       "2                   0.000000                              0.0   \n",
       "3                   2.600000                              3.0   \n",
       "4                   1.600000                              0.0   \n",
       "\n",
       "   PeopleIncomeBelowPovertyLevel  ChildrenUnderPovertyLevel  DistPark  \\\n",
       "0                      34.099998                  43.900002  2.009799   \n",
       "1                       1.900000                   1.700000  7.740092   \n",
       "2                      12.400000                   0.000000  6.557449   \n",
       "3                       5.600000                   5.700000  2.146129   \n",
       "4                       2.900000                   0.000000  8.155375   \n",
       "\n",
       "   DistSchool  \n",
       "0    1.011246  \n",
       "1   12.399261  \n",
       "2    2.340718  \n",
       "3   20.498302  \n",
       "4    4.481962  \n",
       "\n",
       "[5 rows x 221 columns]"
      ]
     },
     "execution_count": 5,
     "metadata": {},
     "output_type": "execute_result"
    }
   ],
   "source": [
    "ml_df = pd.read_pickle(dataset)\n",
    "date_slider_i = dates_slider.index\n",
    "start, end = dates[date_slider_i[0]], dates[date_slider_i[1]]\n",
    "label_transform = label_transform_dropdown.value\n",
    "#print(start, end)\n",
    "ml_df = ml_df[ml_df[\"Sale Date\"] <= end]\n",
    "ml_df = ml_df[ml_df[\"Sale Date\"] >= start]\n",
    "price_i = price_slider.index\n",
    "low_price, high_price = price_range[price_i[0]], price_range[price_i[1]]\n",
    "ml_df = ml_df[ml_df[\"Sale Price\"] >= low_price*1000]\n",
    "ml_df = ml_df[ml_df[\"Sale Price\"] <= high_price*1000]\n",
    "\n",
    "ml_df = ml_df.drop(drop_these, axis=1)\n",
    "print(\"Data frame has {} rows and {} columns\".format(len(ml_df), len(ml_df.columns)))\n",
    "ml_df.head()"
   ]
  },
  {
   "cell_type": "markdown",
   "metadata": {},
   "source": [
    "# Random Forest"
   ]
  },
  {
   "cell_type": "code",
   "execution_count": 6,
   "metadata": {
    "scrolled": true
   },
   "outputs": [
    {
     "data": {
      "text/html": [
       "<div>\n",
       "<style scoped>\n",
       "    .dataframe tbody tr th:only-of-type {\n",
       "        vertical-align: middle;\n",
       "    }\n",
       "\n",
       "    .dataframe tbody tr th {\n",
       "        vertical-align: top;\n",
       "    }\n",
       "\n",
       "    .dataframe thead th {\n",
       "        text-align: right;\n",
       "    }\n",
       "</style>\n",
       "<table border=\"1\" class=\"dataframe\">\n",
       "  <thead>\n",
       "    <tr style=\"text-align: right;\">\n",
       "      <th></th>\n",
       "      <th>Property Class</th>\n",
       "      <th>Neighborhood Code</th>\n",
       "      <th>Land Square Feet</th>\n",
       "      <th>Town Code</th>\n",
       "      <th>Type of Residence</th>\n",
       "      <th>Apartments</th>\n",
       "      <th>Wall Material</th>\n",
       "      <th>Roof Material</th>\n",
       "      <th>Rooms</th>\n",
       "      <th>Bedrooms</th>\n",
       "      <th>...</th>\n",
       "      <th>MedianWorkerEarnings</th>\n",
       "      <th>HealthInsuranceCoverage</th>\n",
       "      <th>HealthInsuranceCoverage-Private</th>\n",
       "      <th>HealthInsuranceCoverage-Public</th>\n",
       "      <th>FamiliesBelowPovertyLevel</th>\n",
       "      <th>MarriedCouplesBelowPovertyLevel</th>\n",
       "      <th>PeopleIncomeBelowPovertyLevel</th>\n",
       "      <th>ChildrenUnderPovertyLevel</th>\n",
       "      <th>DistPark</th>\n",
       "      <th>DistSchool</th>\n",
       "    </tr>\n",
       "  </thead>\n",
       "  <tbody>\n",
       "    <tr>\n",
       "      <th>count</th>\n",
       "      <td>339203.000000</td>\n",
       "      <td>339203.000000</td>\n",
       "      <td>3.392030e+05</td>\n",
       "      <td>339203.000000</td>\n",
       "      <td>339203.000000</td>\n",
       "      <td>339203.000000</td>\n",
       "      <td>339203.000000</td>\n",
       "      <td>339203.000000</td>\n",
       "      <td>339203.000000</td>\n",
       "      <td>339203.000000</td>\n",
       "      <td>...</td>\n",
       "      <td>339151.000000</td>\n",
       "      <td>339203.000000</td>\n",
       "      <td>339203.000000</td>\n",
       "      <td>339203.000000</td>\n",
       "      <td>339203.000000</td>\n",
       "      <td>339203.000000</td>\n",
       "      <td>339203.000000</td>\n",
       "      <td>339203.000000</td>\n",
       "      <td>339203.000000</td>\n",
       "      <td>339203.000000</td>\n",
       "    </tr>\n",
       "    <tr>\n",
       "      <th>mean</th>\n",
       "      <td>220.131723</td>\n",
       "      <td>106.619337</td>\n",
       "      <td>6.885363e+03</td>\n",
       "      <td>45.756181</td>\n",
       "      <td>2.126243</td>\n",
       "      <td>0.409705</td>\n",
       "      <td>1.942439</td>\n",
       "      <td>1.178946</td>\n",
       "      <td>7.145187</td>\n",
       "      <td>3.569287</td>\n",
       "      <td>...</td>\n",
       "      <td>39178.343750</td>\n",
       "      <td>90.349831</td>\n",
       "      <td>66.598068</td>\n",
       "      <td>33.630379</td>\n",
       "      <td>10.690272</td>\n",
       "      <td>6.076194</td>\n",
       "      <td>13.384094</td>\n",
       "      <td>17.786873</td>\n",
       "      <td>5.985742</td>\n",
       "      <td>5.958670</td>\n",
       "    </tr>\n",
       "    <tr>\n",
       "      <th>std</th>\n",
       "      <td>29.590377</td>\n",
       "      <td>99.144176</td>\n",
       "      <td>1.256670e+04</td>\n",
       "      <td>23.964815</td>\n",
       "      <td>1.273946</td>\n",
       "      <td>1.067684</td>\n",
       "      <td>0.780957</td>\n",
       "      <td>0.634165</td>\n",
       "      <td>3.438778</td>\n",
       "      <td>1.565590</td>\n",
       "      <td>...</td>\n",
       "      <td>15066.007812</td>\n",
       "      <td>6.341203</td>\n",
       "      <td>18.667154</td>\n",
       "      <td>13.111530</td>\n",
       "      <td>9.962968</td>\n",
       "      <td>7.301517</td>\n",
       "      <td>10.798603</td>\n",
       "      <td>16.969040</td>\n",
       "      <td>3.730125</td>\n",
       "      <td>4.163019</td>\n",
       "    </tr>\n",
       "    <tr>\n",
       "      <th>min</th>\n",
       "      <td>202.000000</td>\n",
       "      <td>10.000000</td>\n",
       "      <td>1.490000e+02</td>\n",
       "      <td>10.000000</td>\n",
       "      <td>1.000000</td>\n",
       "      <td>-5.000000</td>\n",
       "      <td>1.000000</td>\n",
       "      <td>1.000000</td>\n",
       "      <td>2.000000</td>\n",
       "      <td>1.000000</td>\n",
       "      <td>...</td>\n",
       "      <td>3150.000000</td>\n",
       "      <td>63.299999</td>\n",
       "      <td>12.400000</td>\n",
       "      <td>1.200000</td>\n",
       "      <td>0.000000</td>\n",
       "      <td>0.000000</td>\n",
       "      <td>0.400000</td>\n",
       "      <td>0.000000</td>\n",
       "      <td>0.016075</td>\n",
       "      <td>0.001015</td>\n",
       "    </tr>\n",
       "    <tr>\n",
       "      <th>25%</th>\n",
       "      <td>203.000000</td>\n",
       "      <td>32.000000</td>\n",
       "      <td>3.720000e+03</td>\n",
       "      <td>24.000000</td>\n",
       "      <td>1.000000</td>\n",
       "      <td>0.000000</td>\n",
       "      <td>1.000000</td>\n",
       "      <td>1.000000</td>\n",
       "      <td>5.000000</td>\n",
       "      <td>3.000000</td>\n",
       "      <td>...</td>\n",
       "      <td>28899.000000</td>\n",
       "      <td>86.900002</td>\n",
       "      <td>53.700001</td>\n",
       "      <td>24.400000</td>\n",
       "      <td>3.500000</td>\n",
       "      <td>1.200000</td>\n",
       "      <td>5.400000</td>\n",
       "      <td>4.000000</td>\n",
       "      <td>3.488243</td>\n",
       "      <td>3.308030</td>\n",
       "    </tr>\n",
       "    <tr>\n",
       "      <th>50%</th>\n",
       "      <td>205.000000</td>\n",
       "      <td>80.000000</td>\n",
       "      <td>5.000000e+03</td>\n",
       "      <td>37.000000</td>\n",
       "      <td>2.000000</td>\n",
       "      <td>0.000000</td>\n",
       "      <td>2.000000</td>\n",
       "      <td>1.000000</td>\n",
       "      <td>6.000000</td>\n",
       "      <td>3.000000</td>\n",
       "      <td>...</td>\n",
       "      <td>35951.000000</td>\n",
       "      <td>91.500000</td>\n",
       "      <td>69.000000</td>\n",
       "      <td>32.000000</td>\n",
       "      <td>7.500000</td>\n",
       "      <td>3.800000</td>\n",
       "      <td>10.300000</td>\n",
       "      <td>12.500000</td>\n",
       "      <td>5.325911</td>\n",
       "      <td>5.069272</td>\n",
       "    </tr>\n",
       "    <tr>\n",
       "      <th>75%</th>\n",
       "      <td>211.000000</td>\n",
       "      <td>141.000000</td>\n",
       "      <td>7.910000e+03</td>\n",
       "      <td>72.000000</td>\n",
       "      <td>2.000000</td>\n",
       "      <td>0.000000</td>\n",
       "      <td>2.000000</td>\n",
       "      <td>1.000000</td>\n",
       "      <td>8.000000</td>\n",
       "      <td>4.000000</td>\n",
       "      <td>...</td>\n",
       "      <td>45755.000000</td>\n",
       "      <td>95.400002</td>\n",
       "      <td>82.199997</td>\n",
       "      <td>41.400002</td>\n",
       "      <td>15.000000</td>\n",
       "      <td>8.300000</td>\n",
       "      <td>18.799999</td>\n",
       "      <td>27.799999</td>\n",
       "      <td>7.675243</td>\n",
       "      <td>7.410951</td>\n",
       "    </tr>\n",
       "    <tr>\n",
       "      <th>max</th>\n",
       "      <td>295.000000</td>\n",
       "      <td>600.000000</td>\n",
       "      <td>2.980767e+06</td>\n",
       "      <td>77.000000</td>\n",
       "      <td>8.000000</td>\n",
       "      <td>6.000000</td>\n",
       "      <td>4.000000</td>\n",
       "      <td>6.000000</td>\n",
       "      <td>241.000000</td>\n",
       "      <td>90.000000</td>\n",
       "      <td>...</td>\n",
       "      <td>125170.000000</td>\n",
       "      <td>100.000000</td>\n",
       "      <td>98.500000</td>\n",
       "      <td>81.099998</td>\n",
       "      <td>72.199997</td>\n",
       "      <td>73.300003</td>\n",
       "      <td>73.699997</td>\n",
       "      <td>96.699997</td>\n",
       "      <td>98.709213</td>\n",
       "      <td>76.675179</td>\n",
       "    </tr>\n",
       "  </tbody>\n",
       "</table>\n",
       "<p>8 rows × 221 columns</p>\n",
       "</div>"
      ],
      "text/plain": [
       "       Property Class  Neighborhood Code  Land Square Feet      Town Code  \\\n",
       "count   339203.000000      339203.000000      3.392030e+05  339203.000000   \n",
       "mean       220.131723         106.619337      6.885363e+03      45.756181   \n",
       "std         29.590377          99.144176      1.256670e+04      23.964815   \n",
       "min        202.000000          10.000000      1.490000e+02      10.000000   \n",
       "25%        203.000000          32.000000      3.720000e+03      24.000000   \n",
       "50%        205.000000          80.000000      5.000000e+03      37.000000   \n",
       "75%        211.000000         141.000000      7.910000e+03      72.000000   \n",
       "max        295.000000         600.000000      2.980767e+06      77.000000   \n",
       "\n",
       "       Type of Residence     Apartments  Wall Material  Roof Material  \\\n",
       "count      339203.000000  339203.000000  339203.000000  339203.000000   \n",
       "mean            2.126243       0.409705       1.942439       1.178946   \n",
       "std             1.273946       1.067684       0.780957       0.634165   \n",
       "min             1.000000      -5.000000       1.000000       1.000000   \n",
       "25%             1.000000       0.000000       1.000000       1.000000   \n",
       "50%             2.000000       0.000000       2.000000       1.000000   \n",
       "75%             2.000000       0.000000       2.000000       1.000000   \n",
       "max             8.000000       6.000000       4.000000       6.000000   \n",
       "\n",
       "               Rooms       Bedrooms  ...  MedianWorkerEarnings  \\\n",
       "count  339203.000000  339203.000000  ...         339151.000000   \n",
       "mean        7.145187       3.569287  ...          39178.343750   \n",
       "std         3.438778       1.565590  ...          15066.007812   \n",
       "min         2.000000       1.000000  ...           3150.000000   \n",
       "25%         5.000000       3.000000  ...          28899.000000   \n",
       "50%         6.000000       3.000000  ...          35951.000000   \n",
       "75%         8.000000       4.000000  ...          45755.000000   \n",
       "max       241.000000      90.000000  ...         125170.000000   \n",
       "\n",
       "       HealthInsuranceCoverage  HealthInsuranceCoverage-Private  \\\n",
       "count            339203.000000                    339203.000000   \n",
       "mean                 90.349831                        66.598068   \n",
       "std                   6.341203                        18.667154   \n",
       "min                  63.299999                        12.400000   \n",
       "25%                  86.900002                        53.700001   \n",
       "50%                  91.500000                        69.000000   \n",
       "75%                  95.400002                        82.199997   \n",
       "max                 100.000000                        98.500000   \n",
       "\n",
       "       HealthInsuranceCoverage-Public  FamiliesBelowPovertyLevel  \\\n",
       "count                   339203.000000              339203.000000   \n",
       "mean                        33.630379                  10.690272   \n",
       "std                         13.111530                   9.962968   \n",
       "min                          1.200000                   0.000000   \n",
       "25%                         24.400000                   3.500000   \n",
       "50%                         32.000000                   7.500000   \n",
       "75%                         41.400002                  15.000000   \n",
       "max                         81.099998                  72.199997   \n",
       "\n",
       "       MarriedCouplesBelowPovertyLevel  PeopleIncomeBelowPovertyLevel  \\\n",
       "count                    339203.000000                  339203.000000   \n",
       "mean                          6.076194                      13.384094   \n",
       "std                           7.301517                      10.798603   \n",
       "min                           0.000000                       0.400000   \n",
       "25%                           1.200000                       5.400000   \n",
       "50%                           3.800000                      10.300000   \n",
       "75%                           8.300000                      18.799999   \n",
       "max                          73.300003                      73.699997   \n",
       "\n",
       "       ChildrenUnderPovertyLevel       DistPark     DistSchool  \n",
       "count              339203.000000  339203.000000  339203.000000  \n",
       "mean                   17.786873       5.985742       5.958670  \n",
       "std                    16.969040       3.730125       4.163019  \n",
       "min                     0.000000       0.016075       0.001015  \n",
       "25%                     4.000000       3.488243       3.308030  \n",
       "50%                    12.500000       5.325911       5.069272  \n",
       "75%                    27.799999       7.675243       7.410951  \n",
       "max                    96.699997      98.709213      76.675179  \n",
       "\n",
       "[8 rows x 221 columns]"
      ]
     },
     "execution_count": 6,
     "metadata": {},
     "output_type": "execute_result"
    }
   ],
   "source": [
    "ml_df.describe()"
   ]
  },
  {
   "cell_type": "code",
   "execution_count": 7,
   "metadata": {},
   "outputs": [],
   "source": [
    "label_cols = [\"Sale Price\"]\n",
    "\n",
    "labels = np.array(ml_df[label_cols])\n",
    "if label_transform == \"\":\n",
    "    pass\n",
    "elif label_transform == \"sqrt\":\n",
    "    labels = np.sqrt(labels)\n",
    "elif label_transform == \"log\":\n",
    "    labels = np.log(labels)\n",
    "features = ml_df.drop(label_cols, axis=1)\n",
    "feature_list = list(features.columns)\n",
    "#print(feature_list)\n",
    "features = np.array(features)"
   ]
  },
  {
   "cell_type": "code",
   "execution_count": 8,
   "metadata": {},
   "outputs": [
    {
     "name": "stdout",
     "output_type": "stream",
     "text": [
      "Training Features Shape: (254402, 220)\n",
      "Training Labels Shape: (254402,)\n",
      "Testing Features Shape: (84801, 220)\n",
      "Testing Labels Shape: (84801,)\n"
     ]
    }
   ],
   "source": [
    "from sklearn.model_selection import train_test_split\n",
    "train_features, test_features, train_labels, test_labels = train_test_split(np.nan_to_num(features), np.nan_to_num(labels), test_size = 0.25, random_state = 42)\n",
    "train_labels, test_labels = train_labels.ravel(), test_labels.ravel()\n",
    "print('Training Features Shape:', train_features.shape)\n",
    "print('Training Labels Shape:', train_labels.shape)\n",
    "print('Testing Features Shape:', test_features.shape)\n",
    "print('Testing Labels Shape:', test_labels.shape)"
   ]
  },
  {
   "cell_type": "code",
   "execution_count": 9,
   "metadata": {},
   "outputs": [
    {
     "name": "stdout",
     "output_type": "stream",
     "text": [
      "Running RFR with 64 trees\n"
     ]
    }
   ],
   "source": [
    "# Import the model we are using\n",
    "from sklearn.ensemble import RandomForestRegressor\n",
    "# Instantiate model with 1000 decision trees\n",
    "ntrees = tree_slider.value\n",
    "print(\"Running RFR with {} trees\".format(ntrees))\n",
    "rf = RandomForestRegressor(n_estimators = ntrees, random_state = 42)\n",
    "# Train the model on training data\n",
    "with Client(processes=False, threads_per_worker=5, n_workers=1, memory_limit='10GB') as client:\n",
    "    with joblib.parallel_backend(\"dask\"):\n",
    "        rf.fit(train_features, train_labels)\n",
    "pickle.dump( rf, open( \"rfr.pkl\", \"wb\" ) )"
   ]
  },
  {
   "cell_type": "code",
   "execution_count": 10,
   "metadata": {},
   "outputs": [
    {
     "data": {
      "image/png": "[encoded data removed]",
      "text/plain": [
       "<Figure size 1332x756 with 1 Axes>"
      ]
     },
     "metadata": {
      "needs_background": "light"
     },
     "output_type": "display_data"
    }
   ],
   "source": [
    "plt.hist([rf.estimators_[i].get_depth() for i in range(ntrees)],density=True)\n",
    "plt.xlabel(\"Depth/Height of Tree\")\n",
    "plt.ylabel(\"Density\")\n",
    "fig = plt.gcf()\n",
    "fig.set_size_inches(18.5, 10.5)\n",
    "plt.show()"
   ]
  },
  {
   "cell_type": "code",
   "execution_count": 11,
   "metadata": {},
   "outputs": [
    {
     "name": "stdout",
     "output_type": "stream",
     "text": [
      "\n",
      "Mean Sale Price in Training Set: $301123.60\n",
      "Mean Sale Price in Test Set: $302247.24\n",
      "Mean Error: $ 912.79\n"
     ]
    },
    {
     "data": {
      "image/png": "[encoded data removed]",
      "text/plain": [
       "<Figure size 432x288 with 1 Axes>"
      ]
     },
     "metadata": {
      "needs_background": "light"
     },
     "output_type": "display_data"
    }
   ],
   "source": [
    "# Use the forest's predict method on the test data\n",
    "predictions = rf.predict(test_features)\n",
    "print(label_transform)\n",
    "if label_transform == \"\":\n",
    "    pass\n",
    "elif label_transform == \"sqrt\":\n",
    "    predictions = np.square(predictions)\n",
    "    train_labels = np.square(train_labels)\n",
    "    test_labels = np.square(test_labels)\n",
    "elif label_transform == \"log\":\n",
    "    predictions = np.exp(predictions)\n",
    "    train_labels = np.exp(train_labels)\n",
    "    test_labels = np.exp(test_labels)\n",
    "# Calculate the absolute errors\n",
    "errors = predictions-test_labels\n",
    "print(\"Mean Sale Price in Training Set: ${:7.2f}\".format(np.mean(train_labels)))\n",
    "print(\"Mean Sale Price in Test Set: ${:7.2f}\".format(np.mean(test_labels)))\n",
    "print('Mean Error: ${:7.2f}'.format(np.mean(errors)))\n",
    "plt.boxplot(errors)\n",
    "plt.show()"
   ]
  },
  {
   "cell_type": "code",
   "execution_count": 12,
   "metadata": {},
   "outputs": [
    {
     "name": "stdout",
     "output_type": "stream",
     "text": [
      "Mean Absolute Error: $63482.90\n"
     ]
    },
    {
     "data": {
      "image/png": "[encoded data removed]",
      "text/plain": [
       "<Figure size 432x288 with 1 Axes>"
      ]
     },
     "metadata": {
      "needs_background": "light"
     },
     "output_type": "display_data"
    }
   ],
   "source": [
    "# Print out the mean absolute error (mae)\n",
    "mae = np.mean(np.abs(errors))\n",
    "print('Mean Absolute Error: ${:7.2f}'.format(mae))\n",
    "plt.boxplot(np.abs(errors))\n",
    "plt.show()"
   ]
  },
  {
   "cell_type": "code",
   "execution_count": 13,
   "metadata": {},
   "outputs": [
    {
     "name": "stdout",
     "output_type": "stream",
     "text": [
      "MAPE: 38.54%\n"
     ]
    },
    {
     "data": {
      "image/png": "[encoded data removed]",
      "text/plain": [
       "<Figure size 432x288 with 1 Axes>"
      ]
     },
     "metadata": {
      "needs_background": "light"
     },
     "output_type": "display_data"
    }
   ],
   "source": [
    "# Calculate mean absolute percentage error (MAPE)\n",
    "mape = 100 * (np.abs(errors) / test_labels)\n",
    "# Calculate and display accuracy\n",
    "mape = np.mean(mape)\n",
    "print('MAPE: {:3.2f}%'.format(mape))\n",
    "plt.boxplot(np.abs(errors)/test_labels)\n",
    "plt.show()"
   ]
  },
  {
   "cell_type": "code",
   "execution_count": 14,
   "metadata": {},
   "outputs": [
    {
     "data": {
      "image/png": "[encoded data removed]",
      "text/plain": [
       "<Figure size 1332x756 with 1 Axes>"
      ]
     },
     "metadata": {
      "needs_background": "light"
     },
     "output_type": "display_data"
    }
   ],
   "source": [
    "plt.scatter(test_labels, errors)\n",
    "plt.title(\"Price vs. Error\")\n",
    "plt.xlabel(\"Price\")\n",
    "plt.ylabel(\"Error\")\n",
    "fig = plt.gcf()\n",
    "fig.set_size_inches(18.5, 10.5)\n",
    "plt.show()"
   ]
  },
  {
   "cell_type": "code",
   "execution_count": 15,
   "metadata": {},
   "outputs": [
    {
     "name": "stdout",
     "output_type": "stream",
     "text": [
      "Feature ranking:\n",
      " 1. feature 207 = FamiliesPerCaptiaIncome        (0.3014)\n",
      " 2. feature 134 = Log of Building Square Feet    (0.0610)\n",
      " 3. feature 33 = Census Tract                   (0.0565)\n",
      " 4. feature 136 = Square of Building Square Feet (0.0501)\n",
      " 5. feature 204 = FamiliesIncome200k+            (0.0490)\n",
      " 6. feature 135 = SQRT of Building Square Feet   (0.0476)\n",
      " 7. feature 30 = Building Square Feet           (0.0393)\n",
      " 8. feature 153 = Square of Latitude             (0.0295)\n",
      " 9. feature 31 = Longitude                      (0.0249)\n",
      "10. feature 156 = Square of Longitude            (0.0176)\n",
      "11. feature 155 = SQRT of Longitude              (0.0149)\n",
      "12. feature 32 = Latitude                       (0.0145)\n",
      "13. feature 42 = Sale Quarter                   (0.0117)\n",
      "14. feature 154 = Log of Longitude               (0.0108)\n",
      "15. feature 152 = SQRT of Latitude               (0.0101)\n",
      "16. feature 170 = CommutingToWork-PublicTransit  (0.0097)\n",
      "17. feature 98 = Bool-Property Class-278        (0.0090)\n",
      "18. feature 168 = CommutingToWork-DrivingAlone   (0.0087)\n",
      "19. feature 104 = Bool-Property Class-209        (0.0084)\n",
      "20. feature 219 = DistSchool                     (0.0082)\n"
     ]
    },
    {
     "data": {
      "image/png": "[encoded data removed]",
      "text/plain": [
       "<Figure size 1332x756 with 1 Axes>"
      ]
     },
     "metadata": {
      "needs_background": "light"
     },
     "output_type": "display_data"
    }
   ],
   "source": [
    "importances = rf.feature_importances_\n",
    "std = np.std([tree.feature_importances_ for tree in rf.estimators_],axis=0)\n",
    "indices = np.argsort(importances)[::-1][:20]\n",
    "\n",
    "# Print the feature ranking\n",
    "print(\"Feature ranking:\")\n",
    "\n",
    "for f in range(len(indices)):\n",
    "    print(\"{:2d}. feature {:2d} = {:<30s} ({:1.4f})\".format(f+1, indices[f], feature_list[indices[f]], importances[indices[f]]))\n",
    "\n",
    "# Plot the impurity-based feature importances of the forest\n",
    "plt.figure()\n",
    "plt.title(\"Feature importances\")\n",
    "plt.bar(range(len(indices)), importances[indices], color=\"r\", yerr=std[indices], align=\"center\")\n",
    "plt.xticks(range(len(indices)), [ feature_list[i] for i in indices], rotation=45, ha=\"right\")\n",
    "plt.xlim([-1, len(indices)])\n",
    "fig = plt.gcf()\n",
    "fig.set_size_inches(18.5, 10.5)\n",
    "plt.show()"
   ]
  },
  {
   "cell_type": "code",
   "execution_count": 16,
   "metadata": {},
   "outputs": [
    {
     "name": "stdout",
     "output_type": "stream",
     "text": [
      "Mean error for class 202 is $2761.80 and mean absolute error is $45830.11\n",
      "Mean error for class 203 is $1277.34 and mean absolute error is $49658.21\n",
      "Mean error for class 204 is $3598.88 and mean absolute error is $79680.62\n",
      "Mean error for class 205 is $-2333.37 and mean absolute error is $69218.80\n",
      "Mean error for class 206 is $-4713.33 and mean absolute error is $136826.64\n",
      "Mean error for class 207 is $-5400.18 and mean absolute error is $46942.51\n",
      "Mean error for class 208 is $-37351.37 and mean absolute error is $178730.00\n",
      "Mean error for class 209 is $-36277.98 and mean absolute error is $372263.52\n",
      "Mean error for class 210 is $ 564.94 and mean absolute error is $69517.67\n",
      "Mean error for class 211 is $3790.43 and mean absolute error is $84705.98\n",
      "Mean error for class 212 is $45992.20 and mean absolute error is $156039.82\n",
      "Mean error for class 234 is $-2765.21 and mean absolute error is $40916.52\n",
      "Mean error for class 278 is $-576.01 and mean absolute error is $73624.43\n",
      "Mean error for class 295 is $4687.16 and mean absolute error is $31850.06\n"
     ]
    },
    {
     "data": {
      "image/png": "[encoded data removed]",
      "text/plain": [
       "<Figure size 1332x756 with 1 Axes>"
      ]
     },
     "metadata": {
      "needs_background": "light"
     },
     "output_type": "display_data"
    }
   ],
   "source": [
    "feature_list = list(feature_list)\n",
    "index = feature_list.index('Property Class')\n",
    "classes = set()\n",
    "for i in range(len(test_features)):\n",
    "    classes.add(int(test_features[i][index]))\n",
    "pcerrors = {}\n",
    "#print(classes)\n",
    "for elem in classes:\n",
    "    pcerrors[elem] = {}\n",
    "    pcerrors[elem][\"error\"] = []\n",
    "    pcerrors[elem][\"abs_err\"] = []\n",
    "abs_error = np.abs(errors)\n",
    "for i in range(len(test_features)):\n",
    "    pc = int(test_features[i][index])\n",
    "    pcerrors[pc][\"error\"].append(errors[i])\n",
    "    pcerrors[pc][\"abs_err\"].append(abs_error[i])\n",
    "classes = list(classes)\n",
    "classes.sort()\n",
    "for elem in classes:\n",
    "    print(\"Mean error for class {} is ${:7.2f} and mean absolute error is ${:7.2f}\".format(elem, np.mean(pcerrors[elem][\"error\"]), np.mean(pcerrors[elem][\"abs_err\"]) ))\n",
    "plt.bar([str(i) for i in classes], [np.mean(pcerrors[elem][\"error\"]) for elem in classes], yerr=[np.std(pcerrors[elem][\"error\"])/100 for elem in classes])\n",
    "plt.xlabel(\"Property Classes\", fontsize=20)\n",
    "plt.ylabel(\"Mean Error (error bars = 1% $\\sigma$)\", fontsize=20)\n",
    "fig = plt.gcf()\n",
    "fig.set_size_inches(18.5, 10.5)\n",
    "plt.show()"
   ]
  },
  {
   "cell_type": "code",
   "execution_count": 17,
   "metadata": {},
   "outputs": [
    {
     "data": {
      "image/png": "[encoded data removed]",
      "text/plain": [
       "<Figure size 1332x756 with 1 Axes>"
      ]
     },
     "metadata": {
      "needs_background": "light"
     },
     "output_type": "display_data"
    }
   ],
   "source": [
    "plt.bar([str(i) for i in classes], [np.mean(pcerrors[elem][\"abs_err\"]) for elem in classes], yerr=[np.std(pcerrors[elem][\"error\"]) for elem in classes])\n",
    "plt.xlabel(\"Property Classes\", fontsize=20)\n",
    "plt.ylabel(\"Mean Abs Error (error bars = $\\sigma$)\", fontsize=20)\n",
    "fig = plt.gcf()\n",
    "fig.set_size_inches(18.5, 10.5)\n",
    "plt.show()"
   ]
  },
  {
   "cell_type": "code",
   "execution_count": 18,
   "metadata": {},
   "outputs": [
    {
     "data": {
      "image/png": "[encoded data removed]",
      "text/plain": [
       "<Figure size 1332x756 with 1 Axes>"
      ]
     },
     "metadata": {
      "needs_background": "light"
     },
     "output_type": "display_data"
    }
   ],
   "source": [
    "to_plt = [ pcerrors[pc][\"error\"] for pc in classes ]\n",
    "plt.boxplot(to_plt)\n",
    "plt.xticks(range(len(classes)+1), [\"\"]+classes)\n",
    "fig = plt.gcf()\n",
    "fig.set_size_inches(18.5, 10.5)\n",
    "plt.show()"
   ]
  },
  {
   "cell_type": "code",
   "execution_count": 19,
   "metadata": {},
   "outputs": [
    {
     "name": "stdout",
     "output_type": "stream",
     "text": [
      "Tree height is too large to realistically plot.\n"
     ]
    }
   ],
   "source": [
    "# check if depth is too high\n",
    "if np.mean([rf.estimators_[0].get_depth() for i in range(ntrees)]) < 8:\n",
    "    tree = rf.estimators_[0]\n",
    "    export_graphviz(tree, out_file = 'tree.dot', feature_names = feature_list, rounded = True, precision = 1)\n",
    "    (graph, ) = pydot.graph_from_dot_file('tree.dot')\n",
    "    graph.write_png('tree.png')\n",
    "else:\n",
    "    print(\"Tree height is too large to realistically plot.\")"
   ]
  },
  {
   "cell_type": "code",
   "execution_count": null,
   "metadata": {},
   "outputs": [],
   "source": []
  },
  {
   "cell_type": "code",
   "execution_count": null,
   "metadata": {},
   "outputs": [],
   "source": []
  },
  {
   "cell_type": "code",
   "execution_count": null,
   "metadata": {},
   "outputs": [],
   "source": []
  }
 ],
 "metadata": {
  "kernelspec": {
   "display_name": "Python 3",
   "language": "python",
   "name": "python3"
  },
  "language_info": {
   "codemirror_mode": {
    "name": "ipython",
    "version": 3
   },
   "file_extension": ".py",
   "mimetype": "text/x-python",
   "name": "python",
   "nbconvert_exporter": "python",
   "pygments_lexer": "ipython3",
   "version": "3.8.5"
  }
 },
 "nbformat": 4,
 "nbformat_minor": 4
}
