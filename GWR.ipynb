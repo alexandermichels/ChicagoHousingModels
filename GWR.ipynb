{
 "cells": [
  {
   "cell_type": "code",
   "execution_count": null,
   "id": "approved-buffalo",
   "metadata": {},
   "outputs": [],
   "source": [
    "from esda.moran import Moran\n",
    "import geopandas as gpd\n",
    "import numpy as np\n",
    "import pandas as pd\n",
    "from libpysal.weights import Queen, KNN\n",
    "from matplotlib import cm, colors\n",
    "import matplotlib.pyplot as plt\n",
    "from mgwr.gwr import GWR,MGWR\n",
    "from mgwr.sel_bw import Sel_BW\n",
    "from mgwr.utils import shift_colormap,truncate_colormap\n",
    "from mpl_toolkits.axes_grid1 import make_axes_locatable\n",
    "import multiprocessing as mp\n",
    "from splot.esda import plot_moran\n",
    "import statsmodels.api as sm\n",
    "%env OMP_NUM_THREADS = 1"
   ]
  },
  {
   "cell_type": "code",
   "execution_count": null,
   "id": "classified-overhead",
   "metadata": {},
   "outputs": [],
   "source": [
    "df = pd.read_csv(\"./data/processed/Cleaned_Chicago_Sales.csv\")\n",
    "gdf = gpd.GeoDataFrame(df, geometry=gpd.points_from_xy(df.Longitude, df.Latitude))\n",
    "gdf.head()"
   ]
  },
  {
   "cell_type": "code",
   "execution_count": null,
   "id": "political-economy",
   "metadata": {},
   "outputs": [],
   "source": [
    "i_vars = [\n",
    "    'Age',\n",
    "    'Bedrooms',  \n",
    "    'Building Square Feet',\n",
    "    'Fireplaces', \n",
    "    'Full Baths',\n",
    "    'Garage 1 Area',\n",
    "    'Garage 2 Area', \n",
    "    'Half Baths', \n",
    "    'Land Square Feet',\n",
    "    'Lot Size Squared',\n",
    "    'Rooms'\n",
    "    ]\n",
    "dep_var = ['Sale Price']\n",
    "X = df[i_vars]\n",
    "y = df[dep_var]"
   ]
  },
  {
   "cell_type": "code",
   "execution_count": null,
   "id": "south-synthetic",
   "metadata": {},
   "outputs": [],
   "source": [
    "coords = [ np.array((geom.xy[0][0], geom.xy[1][0])) for geom in gdf['geometry'] ]\n",
    "y, X = y.values, X.values"
   ]
  },
  {
   "cell_type": "code",
   "execution_count": null,
   "id": "authentic-charter",
   "metadata": {},
   "outputs": [],
   "source": [
    "THREADS = 2\n",
    "pool = mp.Pool(THREADS)\n",
    "gwr_selector = Sel_BW(coords, y, X)\n",
    "gwr_bw = gwr_selector.search(pool=pool)\n",
    "\n",
    "print(\"Selected optimal bandwidth is:\", gwr_bw)"
   ]
  },
  {
   "cell_type": "code",
   "execution_count": null,
   "id": "moving-taste",
   "metadata": {},
   "outputs": [],
   "source": [
    "gwr_results = GWR(coords, y, X, bw=gwr_bw).fit()"
   ]
  },
  {
   "cell_type": "code",
   "execution_count": null,
   "id": "historic-bleeding",
   "metadata": {},
   "outputs": [],
   "source": [
    "gwr_results.summary()"
   ]
  },
  {
   "cell_type": "code",
   "execution_count": null,
   "id": "violent-subcommittee",
   "metadata": {},
   "outputs": [],
   "source": [
    "param_plots(gwr_results, gdf, names=[\"intercept\"]+i_vars, subplots=(3,4), figsize=(10,20))"
   ]
  },
  {
   "cell_type": "code",
   "execution_count": null,
   "id": "nutritional-terrain",
   "metadata": {},
   "outputs": [],
   "source": []
  }
 ],
 "metadata": {
  "kernelspec": {
   "display_name": "Python 3",
   "language": "python",
   "name": "python3"
  },
  "language_info": {
   "codemirror_mode": {
    "name": "ipython",
    "version": 3
   },
   "file_extension": ".py",
   "mimetype": "text/x-python",
   "name": "python",
   "nbconvert_exporter": "python",
   "pygments_lexer": "ipython3",
   "version": "3.8.5"
  }
 },
 "nbformat": 4,
 "nbformat_minor": 5
}
