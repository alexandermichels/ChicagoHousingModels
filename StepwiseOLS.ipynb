{
 "cells": [
  {
   "cell_type": "code",
   "execution_count": 1,
   "metadata": {},
   "outputs": [],
   "source": [
    "%matplotlib inline\n",
    "import seaborn as sns\n",
    "import numpy as np \n",
    "import pandas as pd\n",
    "import matplotlib.pyplot as plt\n",
    "sns.set(style=\"whitegrid\")"
   ]
  },
  {
   "cell_type": "code",
   "execution_count": null,
   "metadata": {},
   "outputs": [],
   "source": [
    "df = pd.read_pickle(\"./data/processed/Cleaned_Chicago_Sales.pkl\")\n",
    "print(\"Data frame has {} rows and {} columns\".format(len(df), len(df.columns)))\n",
    "drop_these = []\n",
    "for col in df.columns:\n",
    "    if col[:4] == \"Bool\":\n",
    "        drop_these.append(col)\n",
    "df = df.drop(drop_these, axis=1)\n",
    "print(list(df.columns))\n",
    "df.head()"
   ]
  },
  {
   "cell_type": "code",
   "execution_count": null,
   "metadata": {},
   "outputs": [],
   "source": [
    "i_vars = [\n",
    "    'Age',\n",
    "    'Age Decade',\n",
    "    'Bedrooms',  \n",
    "    'Building Square Feet', \n",
    "    'Estimate (Building)', \n",
    "    'Estimate (Land)', \n",
    "    'Fireplaces', \n",
    "    'Full Baths',\n",
    "    'Garage 1 Area',\n",
    "    'Garage 2 Area', \n",
    "    'Half Baths', \n",
    "    'Land Square Feet',\n",
    "    'Lot Size Squared',\n",
    "    'Rooms',\n",
    "    'Sale Quarter'\n",
    "    ]\n",
    "dep_var = ['Sale Price']\n",
    "X = df[i_vars]\n",
    "y = df[dep_var]"
   ]
  }
 ],
 "metadata": {
  "kernelspec": {
   "display_name": "Python 3",
   "language": "python",
   "name": "python3"
  },
  "language_info": {
   "codemirror_mode": {
    "name": "ipython",
    "version": 3
   },
   "file_extension": ".py",
   "mimetype": "text/x-python",
   "name": "python",
   "nbconvert_exporter": "python",
   "pygments_lexer": "ipython3",
   "version": "3.8.0"
  }
 },
 "nbformat": 4,
 "nbformat_minor": 4
}
