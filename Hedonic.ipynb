{
 "cells": [
  {
   "cell_type": "code",
   "execution_count": 2,
   "metadata": {},
   "outputs": [],
   "source": [
    "%matplotlib inline\n",
    "import seaborn as sns\n",
    "import numpy as np \n",
    "import pandas as pd\n",
    "import matplotlib.pyplot as plt\n",
    "sns.set(style=\"whitegrid\")"
   ]
  },
  {
   "cell_type": "code",
   "execution_count": 3,
   "metadata": {},
   "outputs": [
    {
     "name": "stdout",
     "output_type": "stream",
     "text": [
      "Data frame has 326484 rows and 170 columns\n",
      "['PIN', 'Property Class', 'Neighborhood Code', 'Land Square Feet', 'Town Code', 'Type of Residence', 'Apartments', 'Wall Material', 'Roof Material', 'Rooms', 'Bedrooms', 'Basement', 'Basement Finish', 'Central Heating', 'Central Air', 'Fireplaces', 'Attic Type', 'Attic Finish', 'Half Baths', 'Design Plan', 'Cathedral Ceiling', 'Site Desirability', 'Garage 1 Size', 'Garage 1 Material', 'Garage 1 Attachment', 'Garage 1 Area', 'Garage 2 Size', 'Garage 2 Material', 'Garage 2 Attachment', 'Garage 2 Area', 'Porch', 'Building Square Feet', 'Estimate (Land)', 'Estimate (Building)', 'Sale Date', 'Deed No.', 'Sale Price', 'Longitude', 'Latitude', 'Census Tract', 'Multi Property Indicator', 'Full Baths', 'Age', 'Use', \"O'Hare Noise\", 'Floodplain', 'Road Proximity', 'Sale Year', 'Sale Quarter', 'Sale Half-Year', 'Sale Quarter of Year', 'Sale Half of Year', 'Age Squared', 'Age Decade', 'Age Decade Squared', 'Lot Size Squared', 'Pure Market Filter', 'Garage Indicator', 'Square root of lot size', 'Town and Neighborhood', 'Log of Age', 'SQRT of Age', 'Square of Age', 'SQRT of Age Decade', 'Square of Age Decade', 'Log of Bedrooms', 'SQRT of Bedrooms', 'Square of Bedrooms', 'Log of Building Square Feet', 'SQRT of Building Square Feet', 'Square of Building Square Feet', 'SQRT of Fireplaces', 'Square of Fireplaces', 'Log of Full Baths', 'SQRT of Full Baths', 'Square of Full Baths', 'SQRT of Garage 1 Area', 'Square of Garage 1 Area', 'SQRT of Garage 2 Area', 'Square of Garage 2 Area', 'SQRT of Half Baths', 'Square of Half Baths', 'Log of Land Square Feet', 'SQRT of Land Square Feet', 'Square of Land Square Feet', 'Log of Latitude', 'SQRT of Latitude', 'Square of Latitude', 'Log of Longitude', 'SQRT of Longitude', 'Square of Longitude', 'Log of Lot Size Squared', 'SQRT of Lot Size Squared', 'Square of Lot Size Squared', 'Log of Rooms', 'SQRT of Rooms', 'Square of Rooms']\n"
     ]
    },
    {
     "data": {
      "text/html": [
       "<div>\n",
       "<style scoped>\n",
       "    .dataframe tbody tr th:only-of-type {\n",
       "        vertical-align: middle;\n",
       "    }\n",
       "\n",
       "    .dataframe tbody tr th {\n",
       "        vertical-align: top;\n",
       "    }\n",
       "\n",
       "    .dataframe thead th {\n",
       "        text-align: right;\n",
       "    }\n",
       "</style>\n",
       "<table border=\"1\" class=\"dataframe\">\n",
       "  <thead>\n",
       "    <tr style=\"text-align: right;\">\n",
       "      <th></th>\n",
       "      <th>PIN</th>\n",
       "      <th>Property Class</th>\n",
       "      <th>Neighborhood Code</th>\n",
       "      <th>Land Square Feet</th>\n",
       "      <th>Town Code</th>\n",
       "      <th>Type of Residence</th>\n",
       "      <th>Apartments</th>\n",
       "      <th>Wall Material</th>\n",
       "      <th>Roof Material</th>\n",
       "      <th>Rooms</th>\n",
       "      <th>...</th>\n",
       "      <th>Square of Latitude</th>\n",
       "      <th>Log of Longitude</th>\n",
       "      <th>SQRT of Longitude</th>\n",
       "      <th>Square of Longitude</th>\n",
       "      <th>Log of Lot Size Squared</th>\n",
       "      <th>SQRT of Lot Size Squared</th>\n",
       "      <th>Square of Lot Size Squared</th>\n",
       "      <th>Log of Rooms</th>\n",
       "      <th>SQRT of Rooms</th>\n",
       "      <th>Square of Rooms</th>\n",
       "    </tr>\n",
       "  </thead>\n",
       "  <tbody>\n",
       "    <tr>\n",
       "      <th>2</th>\n",
       "      <td>16094150130000</td>\n",
       "      <td>211</td>\n",
       "      <td>13</td>\n",
       "      <td>4500.0</td>\n",
       "      <td>77</td>\n",
       "      <td>3.0</td>\n",
       "      <td>6.0</td>\n",
       "      <td>2.0</td>\n",
       "      <td>2.0</td>\n",
       "      <td>24.0</td>\n",
       "      <td>...</td>\n",
       "      <td>1754.268799</td>\n",
       "      <td>4.474504</td>\n",
       "      <td>9.367557</td>\n",
       "      <td>7700.257324</td>\n",
       "      <td>16.823666</td>\n",
       "      <td>4500.0</td>\n",
       "      <td>4.100625e+14</td>\n",
       "      <td>3.178054</td>\n",
       "      <td>4.898980</td>\n",
       "      <td>576.0</td>\n",
       "    </tr>\n",
       "    <tr>\n",
       "      <th>5</th>\n",
       "      <td>4252000820000</td>\n",
       "      <td>204</td>\n",
       "      <td>100</td>\n",
       "      <td>33898.0</td>\n",
       "      <td>25</td>\n",
       "      <td>5.0</td>\n",
       "      <td>0.0</td>\n",
       "      <td>2.0</td>\n",
       "      <td>4.0</td>\n",
       "      <td>11.0</td>\n",
       "      <td>...</td>\n",
       "      <td>1771.669678</td>\n",
       "      <td>4.474834</td>\n",
       "      <td>9.369101</td>\n",
       "      <td>7705.334961</td>\n",
       "      <td>20.862223</td>\n",
       "      <td>33898.0</td>\n",
       "      <td>1.320372e+18</td>\n",
       "      <td>2.397895</td>\n",
       "      <td>3.316625</td>\n",
       "      <td>121.0</td>\n",
       "    </tr>\n",
       "    <tr>\n",
       "      <th>8</th>\n",
       "      <td>14322110150000</td>\n",
       "      <td>208</td>\n",
       "      <td>12</td>\n",
       "      <td>3720.0</td>\n",
       "      <td>74</td>\n",
       "      <td>3.0</td>\n",
       "      <td>0.0</td>\n",
       "      <td>2.0</td>\n",
       "      <td>6.0</td>\n",
       "      <td>9.0</td>\n",
       "      <td>...</td>\n",
       "      <td>1757.492310</td>\n",
       "      <td>4.473360</td>\n",
       "      <td>9.362197</td>\n",
       "      <td>7682.651367</td>\n",
       "      <td>16.442959</td>\n",
       "      <td>3720.0</td>\n",
       "      <td>1.915013e+14</td>\n",
       "      <td>2.197225</td>\n",
       "      <td>3.000000</td>\n",
       "      <td>81.0</td>\n",
       "    </tr>\n",
       "    <tr>\n",
       "      <th>9</th>\n",
       "      <td>27021200080000</td>\n",
       "      <td>204</td>\n",
       "      <td>34</td>\n",
       "      <td>16079.0</td>\n",
       "      <td>28</td>\n",
       "      <td>1.0</td>\n",
       "      <td>0.0</td>\n",
       "      <td>3.0</td>\n",
       "      <td>1.0</td>\n",
       "      <td>7.0</td>\n",
       "      <td>...</td>\n",
       "      <td>1733.995605</td>\n",
       "      <td>4.475452</td>\n",
       "      <td>9.371996</td>\n",
       "      <td>7714.864746</td>\n",
       "      <td>19.370539</td>\n",
       "      <td>16079.0</td>\n",
       "      <td>6.683995e+16</td>\n",
       "      <td>1.945910</td>\n",
       "      <td>2.645751</td>\n",
       "      <td>49.0</td>\n",
       "    </tr>\n",
       "    <tr>\n",
       "      <th>11</th>\n",
       "      <td>13121080620000</td>\n",
       "      <td>204</td>\n",
       "      <td>42</td>\n",
       "      <td>7560.0</td>\n",
       "      <td>71</td>\n",
       "      <td>1.0</td>\n",
       "      <td>0.0</td>\n",
       "      <td>2.0</td>\n",
       "      <td>1.0</td>\n",
       "      <td>6.0</td>\n",
       "      <td>...</td>\n",
       "      <td>1762.405518</td>\n",
       "      <td>4.473950</td>\n",
       "      <td>9.364961</td>\n",
       "      <td>7691.726074</td>\n",
       "      <td>17.861254</td>\n",
       "      <td>7560.0</td>\n",
       "      <td>3.266534e+15</td>\n",
       "      <td>1.791759</td>\n",
       "      <td>2.449490</td>\n",
       "      <td>36.0</td>\n",
       "    </tr>\n",
       "  </tbody>\n",
       "</table>\n",
       "<p>5 rows × 97 columns</p>\n",
       "</div>"
      ],
      "text/plain": [
       "               PIN  Property Class  Neighborhood Code  Land Square Feet  \\\n",
       "2   16094150130000             211                 13            4500.0   \n",
       "5    4252000820000             204                100           33898.0   \n",
       "8   14322110150000             208                 12            3720.0   \n",
       "9   27021200080000             204                 34           16079.0   \n",
       "11  13121080620000             204                 42            7560.0   \n",
       "\n",
       "    Town Code  Type of Residence  Apartments  Wall Material  Roof Material  \\\n",
       "2          77                3.0         6.0            2.0            2.0   \n",
       "5          25                5.0         0.0            2.0            4.0   \n",
       "8          74                3.0         0.0            2.0            6.0   \n",
       "9          28                1.0         0.0            3.0            1.0   \n",
       "11         71                1.0         0.0            2.0            1.0   \n",
       "\n",
       "    Rooms  ...  Square of Latitude  Log of Longitude  SQRT of Longitude  \\\n",
       "2    24.0  ...         1754.268799          4.474504           9.367557   \n",
       "5    11.0  ...         1771.669678          4.474834           9.369101   \n",
       "8     9.0  ...         1757.492310          4.473360           9.362197   \n",
       "9     7.0  ...         1733.995605          4.475452           9.371996   \n",
       "11    6.0  ...         1762.405518          4.473950           9.364961   \n",
       "\n",
       "    Square of Longitude  Log of Lot Size Squared  SQRT of Lot Size Squared  \\\n",
       "2           7700.257324                16.823666                    4500.0   \n",
       "5           7705.334961                20.862223                   33898.0   \n",
       "8           7682.651367                16.442959                    3720.0   \n",
       "9           7714.864746                19.370539                   16079.0   \n",
       "11          7691.726074                17.861254                    7560.0   \n",
       "\n",
       "    Square of Lot Size Squared  Log of Rooms  SQRT of Rooms  Square of Rooms  \n",
       "2                 4.100625e+14      3.178054       4.898980            576.0  \n",
       "5                 1.320372e+18      2.397895       3.316625            121.0  \n",
       "8                 1.915013e+14      2.197225       3.000000             81.0  \n",
       "9                 6.683995e+16      1.945910       2.645751             49.0  \n",
       "11                3.266534e+15      1.791759       2.449490             36.0  \n",
       "\n",
       "[5 rows x 97 columns]"
      ]
     },
     "execution_count": 3,
     "metadata": {},
     "output_type": "execute_result"
    }
   ],
   "source": [
    "ml_df = pd.read_pickle(\"./data/processed/Cleaned_Chicago_Sales.pkl\")\n",
    "print(\"Data frame has {} rows and {} columns\".format(len(ml_df), len(ml_df.columns)))\n",
    "drop_these = []\n",
    "for col in ml_df.columns:\n",
    "    if col[:4] == \"Bool\":\n",
    "        drop_these.append(col)\n",
    "ml_df = ml_df.drop(drop_these, axis=1)\n",
    "print(list(ml_df.columns))\n",
    "ml_df.head()"
   ]
  },
  {
   "cell_type": "code",
   "execution_count": 4,
   "metadata": {},
   "outputs": [],
   "source": [
    "drop_these = [\"PIN\", \"Sale Date\", \"Estimate (Land)\", \"Estimate (Building)\", \"Deed No.\", \"Pure Market Filter\"]\n",
    "ml_df = ml_df.drop(drop_these, axis=1)\n",
    "Y_cols = [\"Sale Price\"]\n",
    "Y_transform=\"\"\n",
    "Y = np.array(ml_df[Y_cols])\n",
    "if Y_transform == \"\":\n",
    "    pass\n",
    "elif Y_transform == \"sqrt\":\n",
    "    Y = np.sqrt(labels)\n",
    "elif Y_transform == \"log\":\n",
    "    Y = np.log(labels)\n",
    "X = ml_df.drop(Y_cols, axis=1)\n",
    "#X_labels = list(features.columns)\n",
    "#X = np.array(features)"
   ]
  },
  {
   "cell_type": "code",
   "execution_count": 5,
   "metadata": {},
   "outputs": [
    {
     "name": "stdout",
     "output_type": "stream",
     "text": [
      "Training Features Shape: (261187, 90)\n",
      "Training Labels Shape: (261187,)\n",
      "Testing Features Shape: (65297, 90)\n",
      "Testing Labels Shape: (65297,)\n"
     ]
    }
   ],
   "source": [
    "from sklearn.model_selection import train_test_split\n",
    "X_train, X_test, Y_train, Y_test = train_test_split(np.nan_to_num(X), np.nan_to_num(Y), test_size = 0.2, random_state = 42)\n",
    "Y_train, Y_test = Y_train.ravel(), Y_test.ravel()\n",
    "print('Training Features Shape:', X_train.shape)\n",
    "print('Training Labels Shape:', Y_train.shape)\n",
    "print('Testing Features Shape:', X_test.shape)\n",
    "print('Testing Labels Shape:', Y_test.shape)"
   ]
  },
  {
   "cell_type": "code",
   "execution_count": 6,
   "metadata": {},
   "outputs": [
    {
     "data": {
      "text/plain": [
       "array([290843.20099745, 290917.74598711, 290978.68452778, ...,\n",
       "       290845.13285481, 290826.90741843, 291002.76138581])"
      ]
     },
     "execution_count": 6,
     "metadata": {},
     "output_type": "execute_result"
    }
   ],
   "source": [
    "from sklearn.linear_model import LinearRegression\n",
    "regressor = LinearRegression()\n",
    "regressor.fit(X_train,Y_train)\n",
    "y_pred= regressor.predict(X_test)\n",
    "y_pred"
   ]
  },
  {
   "cell_type": "code",
   "execution_count": 7,
   "metadata": {},
   "outputs": [
    {
     "name": "stdout",
     "output_type": "stream",
     "text": [
      "                            OLS Regression Results                            \n",
      "==============================================================================\n",
      "Dep. Variable:                      y   R-squared:                       0.301\n",
      "Model:                            OLS   Adj. R-squared:                  0.301\n",
      "Method:                 Least Squares   F-statistic:                 2.816e+04\n",
      "Date:                Mon, 30 Nov 2020   Prob (F-statistic):               0.00\n",
      "Time:                        16:24:09   Log-Likelihood:            -4.5315e+06\n",
      "No. Observations:              326484   AIC:                         9.063e+06\n",
      "Df Residuals:                  326478   BIC:                         9.063e+06\n",
      "Df Model:                           5                                         \n",
      "Covariance Type:            nonrobust                                         \n",
      "========================================================================================\n",
      "                           coef    std err          t      P>|t|      [0.025      0.975]\n",
      "----------------------------------------------------------------------------------------\n",
      "const                 1.245e+05   1422.073     87.537      0.000    1.22e+05    1.27e+05\n",
      "Age                   -379.4826     14.965    -25.359      0.000    -408.813    -350.152\n",
      "Bedrooms             -3.185e+04    690.058    -46.159      0.000   -3.32e+04   -3.05e+04\n",
      "Building Square Feet   221.9962      0.762    291.393      0.000     220.503     223.489\n",
      "Land Square Feet         0.4565      0.036     12.642      0.000       0.386       0.527\n",
      "Rooms                -1.405e+04    338.214    -41.538      0.000   -1.47e+04   -1.34e+04\n",
      "==============================================================================\n",
      "Omnibus:                   286291.453   Durbin-Watson:                   1.915\n",
      "Prob(Omnibus):                  0.000   Jarque-Bera (JB):         31805584.243\n",
      "Skew:                           3.738   Prob(JB):                         0.00\n",
      "Kurtosis:                      50.772   Cond. No.                     4.65e+04\n",
      "==============================================================================\n",
      "\n",
      "Notes:\n",
      "[1] Standard Errors assume that the covariance matrix of the errors is correctly specified.\n",
      "[2] The condition number is large, 4.65e+04. This might indicate that there are\n",
      "strong multicollinearity or other numerical problems.\n"
     ]
    }
   ],
   "source": [
    "import statsmodels.api as sm\n",
    "X = ml_df[[\"Age\", \"Bedrooms\", \"Building Square Feet\", \"Land Square Feet\", \"Rooms\"]]\n",
    "X = sm.add_constant(X)\n",
    "model = sm.OLS(Y, X).fit()\n",
    "predictions = model.predict(X) \n",
    " \n",
    "print_model = model.summary()\n",
    "print(print_model)"
   ]
  },
  {
   "cell_type": "code",
   "execution_count": 8,
   "metadata": {},
   "outputs": [
    {
     "name": "stdout",
     "output_type": "stream",
     "text": [
      "LinearGAM                                                                                                 \n",
      "=============================================== ==========================================================\n",
      "Distribution:                        NormalDist Effective DoF:                                    157.6549\n",
      "Link Function:                     IdentityLink Log Likelihood:                              -8505510.0229\n",
      "Number of Samples:                       326484 AIC:                                         17011337.3556\n",
      "                                                AICc:                                        17011337.5108\n",
      "                                                GCV:                                      82311309223.8422\n",
      "                                                Scale:                                    82239767585.5453\n",
      "                                                Pseudo R-Squared:                                    0.137\n",
      "==========================================================================================================\n",
      "Feature Function                  Lambda               Rank         EDoF         P > x        Sig. Code   \n",
      "================================= ==================== ============ ============ ============ ============\n",
      "f(0)                              [0.6]                1            1.0          1.00e+00                 \n",
      "f(1)                              [0.6]                171          156.7        1.11e-16     ***         \n",
      "intercept                                              1            0.0          1.11e-16     ***         \n",
      "==========================================================================================================\n",
      "Significance codes:  0 '***' 0.001 '**' 0.01 '*' 0.05 '.' 0.1 ' ' 1\n",
      "\n",
      "WARNING: Fitting splines and a linear function to a feature introduces a model identifiability problem\n",
      "         which can cause p-values to appear significant when they are not.\n",
      "\n",
      "WARNING: p-values calculated in this manner behave correctly for un-penalized models or models with\n",
      "         known smoothing parameters, but when smoothing parameters have been estimated, the p-values\n",
      "         are typically lower than they should be, meaning that the tests reject the null too readily.\n"
     ]
    },
    {
     "name": "stderr",
     "output_type": "stream",
     "text": [
      "<ipython-input-8-f9a48bc2726c>:5: UserWarning: KNOWN BUG: p-values computed in this summary are likely much smaller than they should be. \n",
      " \n",
      "Please do not make inferences based on these values! \n",
      "\n",
      "Collaborate on a solution, and stay up to date at: \n",
      "github.com/dswah/pyGAM/issues/163 \n",
      "\n",
      "  gam.summary()\n"
     ]
    }
   ],
   "source": [
    "from pygam import LinearGAM, s, f\n",
    "\n",
    "gam = LinearGAM(f(0)+f(1)).fit(X,Y)\n",
    "\n",
    "gam.summary()"
   ]
  },
  {
   "cell_type": "code",
   "execution_count": 11,
   "metadata": {},
   "outputs": [
    {
     "name": "stderr",
     "output_type": "stream",
     "text": [
      " 64% (16 of 25) |###############         | Elapsed Time: 0:11:30 ETA:   0:09:44"
     ]
    },
    {
     "ename": "KeyboardInterrupt",
     "evalue": "",
     "output_type": "error",
     "traceback": [
      "\u001b[0;31m---------------------------------------------------------------------------\u001b[0m",
      "\u001b[0;31mKeyboardInterrupt\u001b[0m                         Traceback (most recent call last)",
      "\u001b[0;32m<ipython-input-11-fdb97ddfbe04>\u001b[0m in \u001b[0;36m<module>\u001b[0;34m\u001b[0m\n\u001b[1;32m      1\u001b[0m \u001b[0mlams\u001b[0m \u001b[0;34m=\u001b[0m \u001b[0mnp\u001b[0m\u001b[0;34m.\u001b[0m\u001b[0mlogspace\u001b[0m\u001b[0;34m(\u001b[0m\u001b[0;34m-\u001b[0m\u001b[0;36m3\u001b[0m\u001b[0;34m,\u001b[0m \u001b[0;36m5\u001b[0m\u001b[0;34m,\u001b[0m \u001b[0;36m5\u001b[0m\u001b[0;34m)\u001b[0m\u001b[0;34m\u001b[0m\u001b[0;34m\u001b[0m\u001b[0m\n\u001b[1;32m      2\u001b[0m \u001b[0mlams\u001b[0m \u001b[0;34m=\u001b[0m \u001b[0;34m[\u001b[0m\u001b[0mlams\u001b[0m\u001b[0;34m]\u001b[0m\u001b[0;34m*\u001b[0m\u001b[0;36m2\u001b[0m\u001b[0;34m\u001b[0m\u001b[0;34m\u001b[0m\u001b[0m\n\u001b[0;32m----> 3\u001b[0;31m \u001b[0mgam\u001b[0m\u001b[0;34m.\u001b[0m\u001b[0mgridsearch\u001b[0m\u001b[0;34m(\u001b[0m\u001b[0mX\u001b[0m\u001b[0;34m,\u001b[0m\u001b[0mY\u001b[0m\u001b[0;34m,\u001b[0m\u001b[0mlam\u001b[0m\u001b[0;34m=\u001b[0m\u001b[0mlams\u001b[0m\u001b[0;34m)\u001b[0m\u001b[0;34m\u001b[0m\u001b[0;34m\u001b[0m\u001b[0m\n\u001b[0m\u001b[1;32m      4\u001b[0m \u001b[0mgam\u001b[0m\u001b[0;34m.\u001b[0m\u001b[0msummary\u001b[0m\u001b[0;34m(\u001b[0m\u001b[0;34m)\u001b[0m\u001b[0;34m\u001b[0m\u001b[0;34m\u001b[0m\u001b[0m\n",
      "\u001b[0;32m~/Nextcloud/Documents/UIUC/Y2F/ACE592/Project/env/lib/python3.8/site-packages/pygam/pygam.py\u001b[0m in \u001b[0;36mgridsearch\u001b[0;34m(self, X, y, weights, return_scores, keep_best, objective, progress, **param_grids)\u001b[0m\n\u001b[1;32m   1892\u001b[0m                     \u001b[0mcoef\u001b[0m \u001b[0;34m=\u001b[0m \u001b[0mmodels\u001b[0m\u001b[0;34m[\u001b[0m\u001b[0;34m-\u001b[0m\u001b[0;36m1\u001b[0m\u001b[0;34m]\u001b[0m\u001b[0;34m.\u001b[0m\u001b[0mcoef_\u001b[0m\u001b[0;34m\u001b[0m\u001b[0;34m\u001b[0m\u001b[0m\n\u001b[1;32m   1893\u001b[0m                     \u001b[0mgam\u001b[0m\u001b[0;34m.\u001b[0m\u001b[0mset_params\u001b[0m\u001b[0;34m(\u001b[0m\u001b[0mcoef_\u001b[0m\u001b[0;34m=\u001b[0m\u001b[0mcoef\u001b[0m\u001b[0;34m,\u001b[0m \u001b[0mforce\u001b[0m\u001b[0;34m=\u001b[0m\u001b[0;32mTrue\u001b[0m\u001b[0;34m,\u001b[0m \u001b[0mverbose\u001b[0m\u001b[0;34m=\u001b[0m\u001b[0;32mFalse\u001b[0m\u001b[0;34m)\u001b[0m\u001b[0;34m\u001b[0m\u001b[0;34m\u001b[0m\u001b[0m\n\u001b[0;32m-> 1894\u001b[0;31m                 \u001b[0mgam\u001b[0m\u001b[0;34m.\u001b[0m\u001b[0mfit\u001b[0m\u001b[0;34m(\u001b[0m\u001b[0mX\u001b[0m\u001b[0;34m,\u001b[0m \u001b[0my\u001b[0m\u001b[0;34m,\u001b[0m \u001b[0mweights\u001b[0m\u001b[0;34m)\u001b[0m\u001b[0;34m\u001b[0m\u001b[0;34m\u001b[0m\u001b[0m\n\u001b[0m\u001b[1;32m   1895\u001b[0m \u001b[0;34m\u001b[0m\u001b[0m\n\u001b[1;32m   1896\u001b[0m             \u001b[0;32mexcept\u001b[0m \u001b[0mValueError\u001b[0m \u001b[0;32mas\u001b[0m \u001b[0merror\u001b[0m\u001b[0;34m:\u001b[0m\u001b[0;34m\u001b[0m\u001b[0;34m\u001b[0m\u001b[0m\n",
      "\u001b[0;32m~/Nextcloud/Documents/UIUC/Y2F/ACE592/Project/env/lib/python3.8/site-packages/pygam/pygam.py\u001b[0m in \u001b[0;36mfit\u001b[0;34m(self, X, y, weights)\u001b[0m\n\u001b[1;32m    918\u001b[0m \u001b[0;34m\u001b[0m\u001b[0m\n\u001b[1;32m    919\u001b[0m         \u001b[0;31m# optimize\u001b[0m\u001b[0;34m\u001b[0m\u001b[0;34m\u001b[0m\u001b[0;34m\u001b[0m\u001b[0m\n\u001b[0;32m--> 920\u001b[0;31m         \u001b[0mself\u001b[0m\u001b[0;34m.\u001b[0m\u001b[0m_pirls\u001b[0m\u001b[0;34m(\u001b[0m\u001b[0mX\u001b[0m\u001b[0;34m,\u001b[0m \u001b[0my\u001b[0m\u001b[0;34m,\u001b[0m \u001b[0mweights\u001b[0m\u001b[0;34m)\u001b[0m\u001b[0;34m\u001b[0m\u001b[0;34m\u001b[0m\u001b[0m\n\u001b[0m\u001b[1;32m    921\u001b[0m         \u001b[0;31m# if self._opt == 0:\u001b[0m\u001b[0;34m\u001b[0m\u001b[0;34m\u001b[0m\u001b[0;34m\u001b[0m\u001b[0m\n\u001b[1;32m    922\u001b[0m         \u001b[0;31m#     self._pirls(X, y, weights)\u001b[0m\u001b[0;34m\u001b[0m\u001b[0;34m\u001b[0m\u001b[0;34m\u001b[0m\u001b[0m\n",
      "\u001b[0;32m~/Nextcloud/Documents/UIUC/Y2F/ACE592/Project/env/lib/python3.8/site-packages/pygam/pygam.py\u001b[0m in \u001b[0;36m_pirls\u001b[0;34m(self, X, Y, weights)\u001b[0m\n\u001b[1;32m    736\u001b[0m \u001b[0;34m\u001b[0m\u001b[0m\n\u001b[1;32m    737\u001b[0m             \u001b[0mWB\u001b[0m \u001b[0;34m=\u001b[0m \u001b[0mW\u001b[0m\u001b[0;34m.\u001b[0m\u001b[0mdot\u001b[0m\u001b[0;34m(\u001b[0m\u001b[0mmodelmat\u001b[0m\u001b[0;34m[\u001b[0m\u001b[0mmask\u001b[0m\u001b[0;34m,\u001b[0m\u001b[0;34m:\u001b[0m\u001b[0;34m]\u001b[0m\u001b[0;34m)\u001b[0m \u001b[0;31m# common matrix product\u001b[0m\u001b[0;34m\u001b[0m\u001b[0;34m\u001b[0m\u001b[0m\n\u001b[0;32m--> 738\u001b[0;31m             \u001b[0mQ\u001b[0m\u001b[0;34m,\u001b[0m \u001b[0mR\u001b[0m \u001b[0;34m=\u001b[0m \u001b[0mnp\u001b[0m\u001b[0;34m.\u001b[0m\u001b[0mlinalg\u001b[0m\u001b[0;34m.\u001b[0m\u001b[0mqr\u001b[0m\u001b[0;34m(\u001b[0m\u001b[0mWB\u001b[0m\u001b[0;34m.\u001b[0m\u001b[0mA\u001b[0m\u001b[0;34m)\u001b[0m\u001b[0;34m\u001b[0m\u001b[0;34m\u001b[0m\u001b[0m\n\u001b[0m\u001b[1;32m    739\u001b[0m \u001b[0;34m\u001b[0m\u001b[0m\n\u001b[1;32m    740\u001b[0m             \u001b[0;32mif\u001b[0m \u001b[0;32mnot\u001b[0m \u001b[0mnp\u001b[0m\u001b[0;34m.\u001b[0m\u001b[0misfinite\u001b[0m\u001b[0;34m(\u001b[0m\u001b[0mQ\u001b[0m\u001b[0;34m)\u001b[0m\u001b[0;34m.\u001b[0m\u001b[0mall\u001b[0m\u001b[0;34m(\u001b[0m\u001b[0;34m)\u001b[0m \u001b[0;32mor\u001b[0m \u001b[0;32mnot\u001b[0m \u001b[0mnp\u001b[0m\u001b[0;34m.\u001b[0m\u001b[0misfinite\u001b[0m\u001b[0;34m(\u001b[0m\u001b[0mR\u001b[0m\u001b[0;34m)\u001b[0m\u001b[0;34m.\u001b[0m\u001b[0mall\u001b[0m\u001b[0;34m(\u001b[0m\u001b[0;34m)\u001b[0m\u001b[0;34m:\u001b[0m\u001b[0;34m\u001b[0m\u001b[0;34m\u001b[0m\u001b[0m\n",
      "\u001b[0;32m~/Nextcloud/Documents/UIUC/Y2F/ACE592/Project/env/lib/python3.8/site-packages/scipy/sparse/base.py\u001b[0m in \u001b[0;36m__getattr__\u001b[0;34m(self, attr)\u001b[0m\n\u001b[1;32m    673\u001b[0m     \u001b[0;32mdef\u001b[0m \u001b[0m__getattr__\u001b[0m\u001b[0;34m(\u001b[0m\u001b[0mself\u001b[0m\u001b[0;34m,\u001b[0m \u001b[0mattr\u001b[0m\u001b[0;34m)\u001b[0m\u001b[0;34m:\u001b[0m\u001b[0;34m\u001b[0m\u001b[0;34m\u001b[0m\u001b[0m\n\u001b[1;32m    674\u001b[0m         \u001b[0;32mif\u001b[0m \u001b[0mattr\u001b[0m \u001b[0;34m==\u001b[0m \u001b[0;34m'A'\u001b[0m\u001b[0;34m:\u001b[0m\u001b[0;34m\u001b[0m\u001b[0;34m\u001b[0m\u001b[0m\n\u001b[0;32m--> 675\u001b[0;31m             \u001b[0;32mreturn\u001b[0m \u001b[0mself\u001b[0m\u001b[0;34m.\u001b[0m\u001b[0mtoarray\u001b[0m\u001b[0;34m(\u001b[0m\u001b[0;34m)\u001b[0m\u001b[0;34m\u001b[0m\u001b[0;34m\u001b[0m\u001b[0m\n\u001b[0m\u001b[1;32m    676\u001b[0m         \u001b[0;32melif\u001b[0m \u001b[0mattr\u001b[0m \u001b[0;34m==\u001b[0m \u001b[0;34m'T'\u001b[0m\u001b[0;34m:\u001b[0m\u001b[0;34m\u001b[0m\u001b[0;34m\u001b[0m\u001b[0m\n\u001b[1;32m    677\u001b[0m             \u001b[0;32mreturn\u001b[0m \u001b[0mself\u001b[0m\u001b[0;34m.\u001b[0m\u001b[0mtranspose\u001b[0m\u001b[0;34m(\u001b[0m\u001b[0;34m)\u001b[0m\u001b[0;34m\u001b[0m\u001b[0;34m\u001b[0m\u001b[0m\n",
      "\u001b[0;32m~/Nextcloud/Documents/UIUC/Y2F/ACE592/Project/env/lib/python3.8/site-packages/scipy/sparse/compressed.py\u001b[0m in \u001b[0;36mtoarray\u001b[0;34m(self, order, out)\u001b[0m\n\u001b[1;32m   1038\u001b[0m             \u001b[0my\u001b[0m \u001b[0;34m=\u001b[0m \u001b[0mout\u001b[0m\u001b[0;34m.\u001b[0m\u001b[0mT\u001b[0m\u001b[0;34m\u001b[0m\u001b[0;34m\u001b[0m\u001b[0m\n\u001b[1;32m   1039\u001b[0m         \u001b[0mM\u001b[0m\u001b[0;34m,\u001b[0m \u001b[0mN\u001b[0m \u001b[0;34m=\u001b[0m \u001b[0mx\u001b[0m\u001b[0;34m.\u001b[0m\u001b[0m_swap\u001b[0m\u001b[0;34m(\u001b[0m\u001b[0mx\u001b[0m\u001b[0;34m.\u001b[0m\u001b[0mshape\u001b[0m\u001b[0;34m)\u001b[0m\u001b[0;34m\u001b[0m\u001b[0;34m\u001b[0m\u001b[0m\n\u001b[0;32m-> 1040\u001b[0;31m         \u001b[0mcsr_todense\u001b[0m\u001b[0;34m(\u001b[0m\u001b[0mM\u001b[0m\u001b[0;34m,\u001b[0m \u001b[0mN\u001b[0m\u001b[0;34m,\u001b[0m \u001b[0mx\u001b[0m\u001b[0;34m.\u001b[0m\u001b[0mindptr\u001b[0m\u001b[0;34m,\u001b[0m \u001b[0mx\u001b[0m\u001b[0;34m.\u001b[0m\u001b[0mindices\u001b[0m\u001b[0;34m,\u001b[0m \u001b[0mx\u001b[0m\u001b[0;34m.\u001b[0m\u001b[0mdata\u001b[0m\u001b[0;34m,\u001b[0m \u001b[0my\u001b[0m\u001b[0;34m)\u001b[0m\u001b[0;34m\u001b[0m\u001b[0;34m\u001b[0m\u001b[0m\n\u001b[0m\u001b[1;32m   1041\u001b[0m         \u001b[0;32mreturn\u001b[0m \u001b[0mout\u001b[0m\u001b[0;34m\u001b[0m\u001b[0;34m\u001b[0m\u001b[0m\n\u001b[1;32m   1042\u001b[0m \u001b[0;34m\u001b[0m\u001b[0m\n",
      "\u001b[0;31mKeyboardInterrupt\u001b[0m: "
     ]
    }
   ],
   "source": [
    "lams = np.logspace(-3, 5, 5)\n",
    "lams = [lams]*2\n",
    "gam.gridsearch(X,Y,lam=lams)\n",
    "gam.summary()"
   ]
  },
  {
   "cell_type": "code",
   "execution_count": null,
   "metadata": {},
   "outputs": [],
   "source": [
    "## plotting\n",
    "plt.figure();\n",
    "fig, axs = plt.subplots(1,3);\n",
    "\n",
    "titles = ['Age', \"Bedrooms\"]\n",
    "for i, ax in enumerate(axs):\n",
    "    XX = gam.generate_X_grid(term=i)\n",
    "    ax.plot(XX[:, i], gam.partial_dependence(term=i, X=XX))\n",
    "    ax.plot(XX[:, i], gam.partial_dependence(term=i, X=XX, width=.95)[1], c='r', ls='--')\n",
    "    #if i == 0:\n",
    "    #    ax.set_ylim(-30,30)\n",
    "    ax.set_title(titles[i]);"
   ]
  }
 ],
 "metadata": {
  "kernelspec": {
   "display_name": "Python 3",
   "language": "python",
   "name": "python3"
  },
  "language_info": {
   "codemirror_mode": {
    "name": "ipython",
    "version": 3
   },
   "file_extension": ".py",
   "mimetype": "text/x-python",
   "name": "python",
   "nbconvert_exporter": "python",
   "pygments_lexer": "ipython3",
   "version": "3.8.5"
  }
 },
 "nbformat": 4,
 "nbformat_minor": 4
}
